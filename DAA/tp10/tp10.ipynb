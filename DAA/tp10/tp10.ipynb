{
 "cells": [
  {
   "cell_type": "markdown",
   "metadata": {},
   "source": [
    "# Random Forest and XGBoost"
   ]
  },
  {
   "cell_type": "markdown",
   "metadata": {},
   "source": [
    "### The Data\n",
    "\n",
    "One of the biggest challenges of an auto dealership purchasing a used car at an auto auction is the risk of that the vehicle might have serious issues that prevent it from being sold to customers. The auto community calls these unfortunate purchases “kicks”.\n",
    "\n",
    "Kicked cars often result when there are tampered odometers, mechanical issues the dealer is not able to address, issues with getting the vehicle title from the seller, or some other unforeseen problem. Kick cars can be very costly to dealers after transportation cost, throw-away repair work, and market losses in reselling the vehicle.\n",
    "\n",
    "Modelers who can figure out which cars have a higher risk of being kick can provide real value to dealerships trying to provide the best inventory selection possible to their customers.\n",
    "\n",
    "The challenge of this competition is to **predict if the car purchased at the auction is a Kick (bad buy) or a good buy**.\n",
    "\n",
    "- All the variables in the data set are defined in the file Carvana_Data_Dictionary.txt\n",
    "- The data contains missing values\n",
    "- The dependent variable (IsBadBuy) is binary (C2)\n",
    "- There are 32 Independent variables (C3-C34)\n",
    "- The data set is split to 60% training and 40% testing.\n",
    "\n",
    "See more [here](https://www.kaggle.com/c/DontGetKicked/data?select=test.csv)."
   ]
  },
  {
   "cell_type": "markdown",
   "metadata": {},
   "source": [
    "### Loading and preprocessing dataset"
   ]
  },
  {
   "cell_type": "code",
   "execution_count": 1,
   "metadata": {},
   "outputs": [
    {
     "name": "stdout",
     "output_type": "stream",
     "text": [
      "Requirement already satisfied: seaborn in /home/lau/anaconda3/lib/python3.9/site-packages (0.11.2)\n",
      "Collecting seaborn\n",
      "  Downloading seaborn-0.12.1-py3-none-any.whl (288 kB)\n",
      "\u001b[K     |████████████████████████████████| 288 kB 239 kB/s eta 0:00:01\n",
      "\u001b[?25hRequirement already satisfied: pandas>=0.25 in /home/lau/anaconda3/lib/python3.9/site-packages (from seaborn) (1.4.2)\n",
      "Requirement already satisfied: matplotlib!=3.6.1,>=3.1 in /home/lau/anaconda3/lib/python3.9/site-packages (from seaborn) (3.5.1)\n",
      "Requirement already satisfied: numpy>=1.17 in /home/lau/anaconda3/lib/python3.9/site-packages (from seaborn) (1.21.5)\n",
      "Requirement already satisfied: packaging>=20.0 in /home/lau/anaconda3/lib/python3.9/site-packages (from matplotlib!=3.6.1,>=3.1->seaborn) (21.3)\n",
      "Requirement already satisfied: pillow>=6.2.0 in /home/lau/anaconda3/lib/python3.9/site-packages (from matplotlib!=3.6.1,>=3.1->seaborn) (9.0.1)\n",
      "Requirement already satisfied: pyparsing>=2.2.1 in /home/lau/anaconda3/lib/python3.9/site-packages (from matplotlib!=3.6.1,>=3.1->seaborn) (3.0.4)\n",
      "Requirement already satisfied: python-dateutil>=2.7 in /home/lau/anaconda3/lib/python3.9/site-packages (from matplotlib!=3.6.1,>=3.1->seaborn) (2.8.2)\n",
      "Requirement already satisfied: kiwisolver>=1.0.1 in /home/lau/anaconda3/lib/python3.9/site-packages (from matplotlib!=3.6.1,>=3.1->seaborn) (1.3.2)\n",
      "Requirement already satisfied: cycler>=0.10 in /home/lau/anaconda3/lib/python3.9/site-packages (from matplotlib!=3.6.1,>=3.1->seaborn) (0.11.0)\n",
      "Requirement already satisfied: fonttools>=4.22.0 in /home/lau/anaconda3/lib/python3.9/site-packages (from matplotlib!=3.6.1,>=3.1->seaborn) (4.25.0)\n",
      "Requirement already satisfied: pytz>=2020.1 in /home/lau/anaconda3/lib/python3.9/site-packages (from pandas>=0.25->seaborn) (2021.3)\n",
      "Requirement already satisfied: six>=1.5 in /home/lau/anaconda3/lib/python3.9/site-packages (from python-dateutil>=2.7->matplotlib!=3.6.1,>=3.1->seaborn) (1.16.0)\n",
      "Installing collected packages: seaborn\n",
      "  Attempting uninstall: seaborn\n",
      "    Found existing installation: seaborn 0.11.2\n",
      "    Uninstalling seaborn-0.11.2:\n",
      "      Successfully uninstalled seaborn-0.11.2\n",
      "Successfully installed seaborn-0.12.1\n"
     ]
    }
   ],
   "source": [
    "#!pip install -U seaborn\n",
    "#!pip install numpy pandas matplotlib seaborn --quiet\n",
    "#!pip install jovian opendatasets xgboost graphviz lightgbm scikit-learn xgboost lightgbm --upgrade --quiet"
   ]
  },
  {
   "cell_type": "markdown",
   "metadata": {},
   "source": [
    "Imports"
   ]
  },
  {
   "cell_type": "code",
   "execution_count": 2,
   "metadata": {},
   "outputs": [],
   "source": [
    "import os\n",
    "import opendatasets as od\n",
    "import pandas as pd\n",
    "import numpy as np\n",
    "import math\n",
    "import matplotlib.pyplot as plt\n",
    "import seaborn as sns\n",
    "import time\n",
    "import seaborn as sns\n",
    "import matplotlib.pyplot as plt"
   ]
  },
  {
   "cell_type": "code",
   "execution_count": 3,
   "metadata": {},
   "outputs": [],
   "source": [
    "from sklearn.pipeline import make_pipeline\n",
    "from sklearn.compose import make_column_transformer\n",
    "from sklearn.feature_selection import SelectKBest, chi2, f_classif, VarianceThreshold\n",
    "from sklearn.impute import SimpleImputer, KNNImputer, MissingIndicator\n",
    "from sklearn.preprocessing import KBinsDiscretizer, OneHotEncoder, MinMaxScaler\n",
    "from sklearn.decomposition import PCA\n",
    "from sklearn.ensemble import RandomForestClassifier, ExtraTreesClassifier"
   ]
  },
  {
   "cell_type": "code",
   "execution_count": 4,
   "metadata": {},
   "outputs": [],
   "source": [
    "pd.set_option(\"display.max_columns\", 120)\n",
    "pd.set_option(\"display.max_rows\", 120)"
   ]
  },
  {
   "cell_type": "code",
   "execution_count": 5,
   "metadata": {},
   "outputs": [
    {
     "data": {
      "text/html": [
       "<div>\n",
       "<style scoped>\n",
       "    .dataframe tbody tr th:only-of-type {\n",
       "        vertical-align: middle;\n",
       "    }\n",
       "\n",
       "    .dataframe tbody tr th {\n",
       "        vertical-align: top;\n",
       "    }\n",
       "\n",
       "    .dataframe thead th {\n",
       "        text-align: right;\n",
       "    }\n",
       "</style>\n",
       "<table border=\"1\" class=\"dataframe\">\n",
       "  <thead>\n",
       "    <tr style=\"text-align: right;\">\n",
       "      <th></th>\n",
       "      <th>RefId</th>\n",
       "      <th>IsBadBuy</th>\n",
       "      <th>PurchDate</th>\n",
       "      <th>Auction</th>\n",
       "      <th>VehYear</th>\n",
       "      <th>VehicleAge</th>\n",
       "      <th>Make</th>\n",
       "      <th>Model</th>\n",
       "      <th>Trim</th>\n",
       "      <th>SubModel</th>\n",
       "      <th>Color</th>\n",
       "      <th>Transmission</th>\n",
       "      <th>WheelTypeID</th>\n",
       "      <th>WheelType</th>\n",
       "      <th>VehOdo</th>\n",
       "      <th>Nationality</th>\n",
       "      <th>Size</th>\n",
       "      <th>TopThreeAmericanName</th>\n",
       "      <th>MMRAcquisitionAuctionAveragePrice</th>\n",
       "      <th>MMRAcquisitionAuctionCleanPrice</th>\n",
       "      <th>MMRAcquisitionRetailAveragePrice</th>\n",
       "      <th>MMRAcquisitonRetailCleanPrice</th>\n",
       "      <th>MMRCurrentAuctionAveragePrice</th>\n",
       "      <th>MMRCurrentAuctionCleanPrice</th>\n",
       "      <th>MMRCurrentRetailAveragePrice</th>\n",
       "      <th>MMRCurrentRetailCleanPrice</th>\n",
       "      <th>PRIMEUNIT</th>\n",
       "      <th>AUCGUART</th>\n",
       "      <th>BYRNO</th>\n",
       "      <th>VNZIP1</th>\n",
       "      <th>VNST</th>\n",
       "      <th>VehBCost</th>\n",
       "      <th>IsOnlineSale</th>\n",
       "      <th>WarrantyCost</th>\n",
       "    </tr>\n",
       "  </thead>\n",
       "  <tbody>\n",
       "    <tr>\n",
       "      <th>0</th>\n",
       "      <td>1</td>\n",
       "      <td>0</td>\n",
       "      <td>12/7/2009</td>\n",
       "      <td>ADESA</td>\n",
       "      <td>2006</td>\n",
       "      <td>3</td>\n",
       "      <td>MAZDA</td>\n",
       "      <td>MAZDA3</td>\n",
       "      <td>i</td>\n",
       "      <td>4D SEDAN I</td>\n",
       "      <td>RED</td>\n",
       "      <td>AUTO</td>\n",
       "      <td>1.0</td>\n",
       "      <td>Alloy</td>\n",
       "      <td>89046</td>\n",
       "      <td>OTHER ASIAN</td>\n",
       "      <td>MEDIUM</td>\n",
       "      <td>OTHER</td>\n",
       "      <td>8155.0</td>\n",
       "      <td>9829.0</td>\n",
       "      <td>11636.0</td>\n",
       "      <td>13600.0</td>\n",
       "      <td>7451.0</td>\n",
       "      <td>8552.0</td>\n",
       "      <td>11597.0</td>\n",
       "      <td>12409.0</td>\n",
       "      <td>NaN</td>\n",
       "      <td>NaN</td>\n",
       "      <td>21973</td>\n",
       "      <td>33619</td>\n",
       "      <td>FL</td>\n",
       "      <td>7100.0</td>\n",
       "      <td>0</td>\n",
       "      <td>1113</td>\n",
       "    </tr>\n",
       "    <tr>\n",
       "      <th>1</th>\n",
       "      <td>2</td>\n",
       "      <td>0</td>\n",
       "      <td>12/7/2009</td>\n",
       "      <td>ADESA</td>\n",
       "      <td>2004</td>\n",
       "      <td>5</td>\n",
       "      <td>DODGE</td>\n",
       "      <td>1500 RAM PICKUP 2WD</td>\n",
       "      <td>ST</td>\n",
       "      <td>QUAD CAB 4.7L SLT</td>\n",
       "      <td>WHITE</td>\n",
       "      <td>AUTO</td>\n",
       "      <td>1.0</td>\n",
       "      <td>Alloy</td>\n",
       "      <td>93593</td>\n",
       "      <td>AMERICAN</td>\n",
       "      <td>LARGE TRUCK</td>\n",
       "      <td>CHRYSLER</td>\n",
       "      <td>6854.0</td>\n",
       "      <td>8383.0</td>\n",
       "      <td>10897.0</td>\n",
       "      <td>12572.0</td>\n",
       "      <td>7456.0</td>\n",
       "      <td>9222.0</td>\n",
       "      <td>11374.0</td>\n",
       "      <td>12791.0</td>\n",
       "      <td>NaN</td>\n",
       "      <td>NaN</td>\n",
       "      <td>19638</td>\n",
       "      <td>33619</td>\n",
       "      <td>FL</td>\n",
       "      <td>7600.0</td>\n",
       "      <td>0</td>\n",
       "      <td>1053</td>\n",
       "    </tr>\n",
       "    <tr>\n",
       "      <th>2</th>\n",
       "      <td>3</td>\n",
       "      <td>0</td>\n",
       "      <td>12/7/2009</td>\n",
       "      <td>ADESA</td>\n",
       "      <td>2005</td>\n",
       "      <td>4</td>\n",
       "      <td>DODGE</td>\n",
       "      <td>STRATUS V6</td>\n",
       "      <td>SXT</td>\n",
       "      <td>4D SEDAN SXT FFV</td>\n",
       "      <td>MAROON</td>\n",
       "      <td>AUTO</td>\n",
       "      <td>2.0</td>\n",
       "      <td>Covers</td>\n",
       "      <td>73807</td>\n",
       "      <td>AMERICAN</td>\n",
       "      <td>MEDIUM</td>\n",
       "      <td>CHRYSLER</td>\n",
       "      <td>3202.0</td>\n",
       "      <td>4760.0</td>\n",
       "      <td>6943.0</td>\n",
       "      <td>8457.0</td>\n",
       "      <td>4035.0</td>\n",
       "      <td>5557.0</td>\n",
       "      <td>7146.0</td>\n",
       "      <td>8702.0</td>\n",
       "      <td>NaN</td>\n",
       "      <td>NaN</td>\n",
       "      <td>19638</td>\n",
       "      <td>33619</td>\n",
       "      <td>FL</td>\n",
       "      <td>4900.0</td>\n",
       "      <td>0</td>\n",
       "      <td>1389</td>\n",
       "    </tr>\n",
       "    <tr>\n",
       "      <th>3</th>\n",
       "      <td>4</td>\n",
       "      <td>0</td>\n",
       "      <td>12/7/2009</td>\n",
       "      <td>ADESA</td>\n",
       "      <td>2004</td>\n",
       "      <td>5</td>\n",
       "      <td>DODGE</td>\n",
       "      <td>NEON</td>\n",
       "      <td>SXT</td>\n",
       "      <td>4D SEDAN</td>\n",
       "      <td>SILVER</td>\n",
       "      <td>AUTO</td>\n",
       "      <td>1.0</td>\n",
       "      <td>Alloy</td>\n",
       "      <td>65617</td>\n",
       "      <td>AMERICAN</td>\n",
       "      <td>COMPACT</td>\n",
       "      <td>CHRYSLER</td>\n",
       "      <td>1893.0</td>\n",
       "      <td>2675.0</td>\n",
       "      <td>4658.0</td>\n",
       "      <td>5690.0</td>\n",
       "      <td>1844.0</td>\n",
       "      <td>2646.0</td>\n",
       "      <td>4375.0</td>\n",
       "      <td>5518.0</td>\n",
       "      <td>NaN</td>\n",
       "      <td>NaN</td>\n",
       "      <td>19638</td>\n",
       "      <td>33619</td>\n",
       "      <td>FL</td>\n",
       "      <td>4100.0</td>\n",
       "      <td>0</td>\n",
       "      <td>630</td>\n",
       "    </tr>\n",
       "    <tr>\n",
       "      <th>4</th>\n",
       "      <td>5</td>\n",
       "      <td>0</td>\n",
       "      <td>12/7/2009</td>\n",
       "      <td>ADESA</td>\n",
       "      <td>2005</td>\n",
       "      <td>4</td>\n",
       "      <td>FORD</td>\n",
       "      <td>FOCUS</td>\n",
       "      <td>ZX3</td>\n",
       "      <td>2D COUPE ZX3</td>\n",
       "      <td>SILVER</td>\n",
       "      <td>MANUAL</td>\n",
       "      <td>2.0</td>\n",
       "      <td>Covers</td>\n",
       "      <td>69367</td>\n",
       "      <td>AMERICAN</td>\n",
       "      <td>COMPACT</td>\n",
       "      <td>FORD</td>\n",
       "      <td>3913.0</td>\n",
       "      <td>5054.0</td>\n",
       "      <td>7723.0</td>\n",
       "      <td>8707.0</td>\n",
       "      <td>3247.0</td>\n",
       "      <td>4384.0</td>\n",
       "      <td>6739.0</td>\n",
       "      <td>7911.0</td>\n",
       "      <td>NaN</td>\n",
       "      <td>NaN</td>\n",
       "      <td>19638</td>\n",
       "      <td>33619</td>\n",
       "      <td>FL</td>\n",
       "      <td>4000.0</td>\n",
       "      <td>0</td>\n",
       "      <td>1020</td>\n",
       "    </tr>\n",
       "  </tbody>\n",
       "</table>\n",
       "</div>"
      ],
      "text/plain": [
       "   RefId  IsBadBuy  PurchDate Auction  VehYear  VehicleAge   Make  \\\n",
       "0      1         0  12/7/2009   ADESA     2006           3  MAZDA   \n",
       "1      2         0  12/7/2009   ADESA     2004           5  DODGE   \n",
       "2      3         0  12/7/2009   ADESA     2005           4  DODGE   \n",
       "3      4         0  12/7/2009   ADESA     2004           5  DODGE   \n",
       "4      5         0  12/7/2009   ADESA     2005           4   FORD   \n",
       "\n",
       "                 Model Trim           SubModel   Color Transmission  \\\n",
       "0               MAZDA3    i         4D SEDAN I     RED         AUTO   \n",
       "1  1500 RAM PICKUP 2WD   ST  QUAD CAB 4.7L SLT   WHITE         AUTO   \n",
       "2           STRATUS V6  SXT   4D SEDAN SXT FFV  MAROON         AUTO   \n",
       "3                 NEON  SXT           4D SEDAN  SILVER         AUTO   \n",
       "4                FOCUS  ZX3       2D COUPE ZX3  SILVER       MANUAL   \n",
       "\n",
       "   WheelTypeID WheelType  VehOdo  Nationality         Size  \\\n",
       "0          1.0     Alloy   89046  OTHER ASIAN       MEDIUM   \n",
       "1          1.0     Alloy   93593     AMERICAN  LARGE TRUCK   \n",
       "2          2.0    Covers   73807     AMERICAN       MEDIUM   \n",
       "3          1.0     Alloy   65617     AMERICAN      COMPACT   \n",
       "4          2.0    Covers   69367     AMERICAN      COMPACT   \n",
       "\n",
       "  TopThreeAmericanName  MMRAcquisitionAuctionAveragePrice  \\\n",
       "0                OTHER                             8155.0   \n",
       "1             CHRYSLER                             6854.0   \n",
       "2             CHRYSLER                             3202.0   \n",
       "3             CHRYSLER                             1893.0   \n",
       "4                 FORD                             3913.0   \n",
       "\n",
       "   MMRAcquisitionAuctionCleanPrice  MMRAcquisitionRetailAveragePrice  \\\n",
       "0                           9829.0                           11636.0   \n",
       "1                           8383.0                           10897.0   \n",
       "2                           4760.0                            6943.0   \n",
       "3                           2675.0                            4658.0   \n",
       "4                           5054.0                            7723.0   \n",
       "\n",
       "   MMRAcquisitonRetailCleanPrice  MMRCurrentAuctionAveragePrice  \\\n",
       "0                        13600.0                         7451.0   \n",
       "1                        12572.0                         7456.0   \n",
       "2                         8457.0                         4035.0   \n",
       "3                         5690.0                         1844.0   \n",
       "4                         8707.0                         3247.0   \n",
       "\n",
       "   MMRCurrentAuctionCleanPrice  MMRCurrentRetailAveragePrice  \\\n",
       "0                       8552.0                       11597.0   \n",
       "1                       9222.0                       11374.0   \n",
       "2                       5557.0                        7146.0   \n",
       "3                       2646.0                        4375.0   \n",
       "4                       4384.0                        6739.0   \n",
       "\n",
       "   MMRCurrentRetailCleanPrice PRIMEUNIT AUCGUART  BYRNO  VNZIP1 VNST  \\\n",
       "0                     12409.0       NaN      NaN  21973   33619   FL   \n",
       "1                     12791.0       NaN      NaN  19638   33619   FL   \n",
       "2                      8702.0       NaN      NaN  19638   33619   FL   \n",
       "3                      5518.0       NaN      NaN  19638   33619   FL   \n",
       "4                      7911.0       NaN      NaN  19638   33619   FL   \n",
       "\n",
       "   VehBCost  IsOnlineSale  WarrantyCost  \n",
       "0    7100.0             0          1113  \n",
       "1    7600.0             0          1053  \n",
       "2    4900.0             0          1389  \n",
       "3    4100.0             0           630  \n",
       "4    4000.0             0          1020  "
      ]
     },
     "execution_count": 5,
     "metadata": {},
     "output_type": "execute_result"
    }
   ],
   "source": [
    "train=pd.read_csv('training.csv')\n",
    "test= pd.read_csv('test.csv')\n",
    "train.head()"
   ]
  },
  {
   "cell_type": "markdown",
   "metadata": {},
   "source": [
    "### Exploratory Data Analysis"
   ]
  },
  {
   "cell_type": "markdown",
   "metadata": {},
   "source": [
    "Understanding the manufacture year of the vehicles"
   ]
  },
  {
   "cell_type": "code",
   "execution_count": 6,
   "metadata": {},
   "outputs": [
    {
     "data": {
      "image/png": "[encoded data removed]",
      "text/plain": [
       "<Figure size 432x288 with 1 Axes>"
      ]
     },
     "metadata": {
      "needs_background": "light"
     },
     "output_type": "display_data"
    }
   ],
   "source": [
    "sns.histplot(data=train, x=\"VehYear\", hue='IsBadBuy');"
   ]
  },
  {
   "cell_type": "markdown",
   "metadata": {},
   "source": [
    "Checking if the auction has any influence or vehicle being bad"
   ]
  },
  {
   "cell_type": "code",
   "execution_count": 7,
   "metadata": {},
   "outputs": [
    {
     "data": {
      "image/png": "[encoded data removed]",
      "text/plain": [
       "<Figure size 432x288 with 1 Axes>"
      ]
     },
     "metadata": {
      "needs_background": "light"
     },
     "output_type": "display_data"
    }
   ],
   "source": [
    "sns.histplot(data=train, x=\"Auction\", hue='IsBadBuy');"
   ]
  },
  {
   "cell_type": "markdown",
   "metadata": {},
   "source": [
    "Understanding the manufactures"
   ]
  },
  {
   "cell_type": "code",
   "execution_count": 8,
   "metadata": {},
   "outputs": [
    {
     "data": {
      "text/plain": [
       "CHEVROLET    17248\n",
       "DODGE        12912\n",
       "FORD         11305\n",
       "CHRYSLER      8844\n",
       "PONTIAC       4258\n",
       "KIA           2484\n",
       "SATURN        2163\n",
       "NISSAN        2085\n",
       "HYUNDAI       1811\n",
       "JEEP          1644\n",
       "Name: Make, dtype: int64"
      ]
     },
     "execution_count": 8,
     "metadata": {},
     "output_type": "execute_result"
    }
   ],
   "source": [
    "train.Make.value_counts().head(10)"
   ]
  },
  {
   "cell_type": "code",
   "execution_count": 8,
   "metadata": {},
   "outputs": [
    {
     "data": {
      "image/png": "[encoded data removed]",
      "text/plain": [
       "<Figure size 720x1152 with 1 Axes>"
      ]
     },
     "metadata": {
      "needs_background": "light"
     },
     "output_type": "display_data"
    }
   ],
   "source": [
    "..."
   ]
  },
  {
   "cell_type": "markdown",
   "metadata": {},
   "source": [
    "Impact of color of car being kicked or not"
   ]
  },
  {
   "cell_type": "code",
   "execution_count": 9,
   "metadata": {},
   "outputs": [
    {
     "data": {
      "image/png": "[encoded data removed]",
      "text/plain": [
       "<Figure size 720x720 with 1 Axes>"
      ]
     },
     "metadata": {
      "needs_background": "light"
     },
     "output_type": "display_data"
    }
   ],
   "source": [
    "..."
   ]
  },
  {
   "cell_type": "markdown",
   "metadata": {},
   "source": [
    "Impact of transmission type on kicked cars"
   ]
  },
  {
   "cell_type": "code",
   "execution_count": 10,
   "metadata": {},
   "outputs": [
    {
     "data": {
      "image/png": "[encoded data removed]",
      "text/plain": [
       "<Figure size 432x288 with 1 Axes>"
      ]
     },
     "metadata": {
      "needs_background": "light"
     },
     "output_type": "display_data"
    }
   ],
   "source": [
    "sns.countplot(x=\"Transmission\", data=train, hue='IsBadBuy');"
   ]
  },
  {
   "cell_type": "markdown",
   "metadata": {},
   "source": [
    "### Feature Engineering"
   ]
  },
  {
   "cell_type": "code",
   "execution_count": 11,
   "metadata": {},
   "outputs": [
    {
     "name": "stdout",
     "output_type": "stream",
     "text": [
      "<class 'pandas.core.frame.DataFrame'>\n",
      "RangeIndex: 72983 entries, 0 to 72982\n",
      "Data columns (total 34 columns):\n",
      " #   Column                             Non-Null Count  Dtype  \n",
      "---  ------                             --------------  -----  \n",
      " 0   RefId                              72983 non-null  int64  \n",
      " 1   IsBadBuy                           72983 non-null  int64  \n",
      " 2   PurchDate                          72983 non-null  object \n",
      " 3   Auction                            72983 non-null  object \n",
      " 4   VehYear                            72983 non-null  int64  \n",
      " 5   VehicleAge                         72983 non-null  int64  \n",
      " 6   Make                               72983 non-null  object \n",
      " 7   Model                              72983 non-null  object \n",
      " 8   Trim                               70623 non-null  object \n",
      " 9   SubModel                           72975 non-null  object \n",
      " 10  Color                              72975 non-null  object \n",
      " 11  Transmission                       72974 non-null  object \n",
      " 12  WheelTypeID                        69814 non-null  float64\n",
      " 13  WheelType                          69809 non-null  object \n",
      " 14  VehOdo                             72983 non-null  int64  \n",
      " 15  Nationality                        72978 non-null  object \n",
      " 16  Size                               72978 non-null  object \n",
      " 17  TopThreeAmericanName               72978 non-null  object \n",
      " 18  MMRAcquisitionAuctionAveragePrice  72965 non-null  float64\n",
      " 19  MMRAcquisitionAuctionCleanPrice    72965 non-null  float64\n",
      " 20  MMRAcquisitionRetailAveragePrice   72965 non-null  float64\n",
      " 21  MMRAcquisitonRetailCleanPrice      72965 non-null  float64\n",
      " 22  MMRCurrentAuctionAveragePrice      72668 non-null  float64\n",
      " 23  MMRCurrentAuctionCleanPrice        72668 non-null  float64\n",
      " 24  MMRCurrentRetailAveragePrice       72668 non-null  float64\n",
      " 25  MMRCurrentRetailCleanPrice         72668 non-null  float64\n",
      " 26  PRIMEUNIT                          3419 non-null   object \n",
      " 27  AUCGUART                           3419 non-null   object \n",
      " 28  BYRNO                              72983 non-null  int64  \n",
      " 29  VNZIP1                             72983 non-null  int64  \n",
      " 30  VNST                               72983 non-null  object \n",
      " 31  VehBCost                           72983 non-null  float64\n",
      " 32  IsOnlineSale                       72983 non-null  int64  \n",
      " 33  WarrantyCost                       72983 non-null  int64  \n",
      "dtypes: float64(10), int64(9), object(15)\n",
      "memory usage: 18.9+ MB\n"
     ]
    }
   ],
   "source": [
    "train.info()"
   ]
  },
  {
   "cell_type": "code",
   "execution_count": 12,
   "metadata": {},
   "outputs": [
    {
     "name": "stdout",
     "output_type": "stream",
     "text": [
      "RefId                                    0\n",
      "IsBadBuy                                 0\n",
      "PurchDate                                0\n",
      "Auction                                  0\n",
      "VehYear                                  0\n",
      "VehicleAge                               0\n",
      "Make                                     0\n",
      "Model                                    0\n",
      "Trim                                  2360\n",
      "SubModel                                 8\n",
      "Color                                    8\n",
      "Transmission                             9\n",
      "WheelTypeID                           3169\n",
      "WheelType                             3174\n",
      "VehOdo                                   0\n",
      "Nationality                              5\n",
      "Size                                     5\n",
      "TopThreeAmericanName                     5\n",
      "MMRAcquisitionAuctionAveragePrice       18\n",
      "MMRAcquisitionAuctionCleanPrice         18\n",
      "MMRAcquisitionRetailAveragePrice        18\n",
      "MMRAcquisitonRetailCleanPrice           18\n",
      "MMRCurrentAuctionAveragePrice          315\n",
      "MMRCurrentAuctionCleanPrice            315\n",
      "MMRCurrentRetailAveragePrice           315\n",
      "MMRCurrentRetailCleanPrice             315\n",
      "PRIMEUNIT                            69564\n",
      "AUCGUART                             69564\n",
      "BYRNO                                    0\n",
      "VNZIP1                                   0\n",
      "VNST                                     0\n",
      "VehBCost                                 0\n",
      "IsOnlineSale                             0\n",
      "WarrantyCost                             0\n",
      "dtype: int64\n"
     ]
    }
   ],
   "source": [
    "print(train.isnull().sum())"
   ]
  },
  {
   "cell_type": "code",
   "execution_count": 13,
   "metadata": {},
   "outputs": [
    {
     "name": "stdout",
     "output_type": "stream",
     "text": [
      "RefId                                    0\n",
      "PurchDate                                0\n",
      "Auction                                  0\n",
      "VehYear                                  0\n",
      "VehicleAge                               0\n",
      "Make                                     0\n",
      "Model                                    0\n",
      "Trim                                  1550\n",
      "SubModel                                 5\n",
      "Color                                    4\n",
      "Transmission                             3\n",
      "WheelTypeID                           2188\n",
      "WheelType                             2188\n",
      "VehOdo                                   0\n",
      "Nationality                              7\n",
      "Size                                     7\n",
      "TopThreeAmericanName                     7\n",
      "MMRAcquisitionAuctionAveragePrice       10\n",
      "MMRAcquisitionAuctionCleanPrice         10\n",
      "MMRAcquisitionRetailAveragePrice        10\n",
      "MMRAcquisitonRetailCleanPrice           10\n",
      "MMRCurrentAuctionAveragePrice          143\n",
      "MMRCurrentAuctionCleanPrice            143\n",
      "MMRCurrentRetailAveragePrice           143\n",
      "MMRCurrentRetailCleanPrice             143\n",
      "PRIMEUNIT                            46191\n",
      "AUCGUART                             46191\n",
      "BYRNO                                    0\n",
      "VNZIP1                                   0\n",
      "VNST                                     0\n",
      "VehBCost                                 0\n",
      "IsOnlineSale                             0\n",
      "WarrantyCost                             0\n",
      "dtype: int64\n"
     ]
    }
   ],
   "source": [
    "print(test.isnull().sum())"
   ]
  },
  {
   "cell_type": "markdown",
   "metadata": {},
   "source": [
    "Checking duplicates"
   ]
  },
  {
   "cell_type": "code",
   "execution_count": 14,
   "metadata": {},
   "outputs": [
    {
     "data": {
      "text/html": [
       "<div>\n",
       "<style scoped>\n",
       "    .dataframe tbody tr th:only-of-type {\n",
       "        vertical-align: middle;\n",
       "    }\n",
       "\n",
       "    .dataframe tbody tr th {\n",
       "        vertical-align: top;\n",
       "    }\n",
       "\n",
       "    .dataframe thead th {\n",
       "        text-align: right;\n",
       "    }\n",
       "</style>\n",
       "<table border=\"1\" class=\"dataframe\">\n",
       "  <thead>\n",
       "    <tr style=\"text-align: right;\">\n",
       "      <th></th>\n",
       "      <th>RefId</th>\n",
       "      <th>IsBadBuy</th>\n",
       "      <th>PurchDate</th>\n",
       "      <th>Auction</th>\n",
       "      <th>VehYear</th>\n",
       "      <th>VehicleAge</th>\n",
       "      <th>Make</th>\n",
       "      <th>Model</th>\n",
       "      <th>Trim</th>\n",
       "      <th>SubModel</th>\n",
       "      <th>Color</th>\n",
       "      <th>Transmission</th>\n",
       "      <th>WheelTypeID</th>\n",
       "      <th>WheelType</th>\n",
       "      <th>VehOdo</th>\n",
       "      <th>Nationality</th>\n",
       "      <th>Size</th>\n",
       "      <th>TopThreeAmericanName</th>\n",
       "      <th>MMRAcquisitionAuctionAveragePrice</th>\n",
       "      <th>MMRAcquisitionAuctionCleanPrice</th>\n",
       "      <th>MMRAcquisitionRetailAveragePrice</th>\n",
       "      <th>MMRAcquisitonRetailCleanPrice</th>\n",
       "      <th>MMRCurrentAuctionAveragePrice</th>\n",
       "      <th>MMRCurrentAuctionCleanPrice</th>\n",
       "      <th>MMRCurrentRetailAveragePrice</th>\n",
       "      <th>MMRCurrentRetailCleanPrice</th>\n",
       "      <th>PRIMEUNIT</th>\n",
       "      <th>AUCGUART</th>\n",
       "      <th>BYRNO</th>\n",
       "      <th>VNZIP1</th>\n",
       "      <th>VNST</th>\n",
       "      <th>VehBCost</th>\n",
       "      <th>IsOnlineSale</th>\n",
       "      <th>WarrantyCost</th>\n",
       "    </tr>\n",
       "  </thead>\n",
       "  <tbody>\n",
       "  </tbody>\n",
       "</table>\n",
       "</div>"
      ],
      "text/plain": [
       "Empty DataFrame\n",
       "Columns: [RefId, IsBadBuy, PurchDate, Auction, VehYear, VehicleAge, Make, Model, Trim, SubModel, Color, Transmission, WheelTypeID, WheelType, VehOdo, Nationality, Size, TopThreeAmericanName, MMRAcquisitionAuctionAveragePrice, MMRAcquisitionAuctionCleanPrice, MMRAcquisitionRetailAveragePrice, MMRAcquisitonRetailCleanPrice, MMRCurrentAuctionAveragePrice, MMRCurrentAuctionCleanPrice, MMRCurrentRetailAveragePrice, MMRCurrentRetailCleanPrice, PRIMEUNIT, AUCGUART, BYRNO, VNZIP1, VNST, VehBCost, IsOnlineSale, WarrantyCost]\n",
       "Index: []"
      ]
     },
     "execution_count": 14,
     "metadata": {},
     "output_type": "execute_result"
    }
   ],
   "source": [
    "..."
   ]
  },
  {
   "cell_type": "code",
   "execution_count": 15,
   "metadata": {},
   "outputs": [
    {
     "data": {
      "text/html": [
       "<div>\n",
       "<style scoped>\n",
       "    .dataframe tbody tr th:only-of-type {\n",
       "        vertical-align: middle;\n",
       "    }\n",
       "\n",
       "    .dataframe tbody tr th {\n",
       "        vertical-align: top;\n",
       "    }\n",
       "\n",
       "    .dataframe thead th {\n",
       "        text-align: right;\n",
       "    }\n",
       "</style>\n",
       "<table border=\"1\" class=\"dataframe\">\n",
       "  <thead>\n",
       "    <tr style=\"text-align: right;\">\n",
       "      <th></th>\n",
       "      <th>RefId</th>\n",
       "      <th>PurchDate</th>\n",
       "      <th>Auction</th>\n",
       "      <th>VehYear</th>\n",
       "      <th>VehicleAge</th>\n",
       "      <th>Make</th>\n",
       "      <th>Model</th>\n",
       "      <th>Trim</th>\n",
       "      <th>SubModel</th>\n",
       "      <th>Color</th>\n",
       "      <th>Transmission</th>\n",
       "      <th>WheelTypeID</th>\n",
       "      <th>WheelType</th>\n",
       "      <th>VehOdo</th>\n",
       "      <th>Nationality</th>\n",
       "      <th>Size</th>\n",
       "      <th>TopThreeAmericanName</th>\n",
       "      <th>MMRAcquisitionAuctionAveragePrice</th>\n",
       "      <th>MMRAcquisitionAuctionCleanPrice</th>\n",
       "      <th>MMRAcquisitionRetailAveragePrice</th>\n",
       "      <th>MMRAcquisitonRetailCleanPrice</th>\n",
       "      <th>MMRCurrentAuctionAveragePrice</th>\n",
       "      <th>MMRCurrentAuctionCleanPrice</th>\n",
       "      <th>MMRCurrentRetailAveragePrice</th>\n",
       "      <th>MMRCurrentRetailCleanPrice</th>\n",
       "      <th>PRIMEUNIT</th>\n",
       "      <th>AUCGUART</th>\n",
       "      <th>BYRNO</th>\n",
       "      <th>VNZIP1</th>\n",
       "      <th>VNST</th>\n",
       "      <th>VehBCost</th>\n",
       "      <th>IsOnlineSale</th>\n",
       "      <th>WarrantyCost</th>\n",
       "    </tr>\n",
       "  </thead>\n",
       "  <tbody>\n",
       "  </tbody>\n",
       "</table>\n",
       "</div>"
      ],
      "text/plain": [
       "Empty DataFrame\n",
       "Columns: [RefId, PurchDate, Auction, VehYear, VehicleAge, Make, Model, Trim, SubModel, Color, Transmission, WheelTypeID, WheelType, VehOdo, Nationality, Size, TopThreeAmericanName, MMRAcquisitionAuctionAveragePrice, MMRAcquisitionAuctionCleanPrice, MMRAcquisitionRetailAveragePrice, MMRAcquisitonRetailCleanPrice, MMRCurrentAuctionAveragePrice, MMRCurrentAuctionCleanPrice, MMRCurrentRetailAveragePrice, MMRCurrentRetailCleanPrice, PRIMEUNIT, AUCGUART, BYRNO, VNZIP1, VNST, VehBCost, IsOnlineSale, WarrantyCost]\n",
       "Index: []"
      ]
     },
     "execution_count": 15,
     "metadata": {},
     "output_type": "execute_result"
    }
   ],
   "source": [
    "..."
   ]
  },
  {
   "cell_type": "markdown",
   "metadata": {},
   "source": [
    "**Drop** since they not seem relevant as they contain specific details which may not help model to learn better\n",
    "\n",
    "- PurchDate (Date might not be relevant but Year would be)\n",
    "- WheelTypeID\n",
    "- Model\n",
    "- Trim\n",
    "- SubModel\n",
    "- Make\n",
    "- VNZIP1\n",
    "- VNST"
   ]
  },
  {
   "cell_type": "markdown",
   "metadata": {},
   "source": [
    "**Create** additional features"
   ]
  },
  {
   "cell_type": "code",
   "execution_count": 16,
   "metadata": {},
   "outputs": [],
   "source": [
    "def split_date(df):\n",
    "    ..."
   ]
  },
  {
   "cell_type": "code",
   "execution_count": 17,
   "metadata": {},
   "outputs": [],
   "source": [
    "def MeanOnFeatures(df):\n",
    "    ..."
   ]
  },
  {
   "cell_type": "code",
   "execution_count": 18,
   "metadata": {},
   "outputs": [
    {
     "name": "stdout",
     "output_type": "stream",
     "text": [
      "(72983, 34) (48707, 33)\n"
     ]
    }
   ],
   "source": [
    "print(train.shape, test.shape)"
   ]
  },
  {
   "cell_type": "code",
   "execution_count": 19,
   "metadata": {},
   "outputs": [
    {
     "name": "stdout",
     "output_type": "stream",
     "text": [
      "(72983, 35) (48707, 34)\n"
     ]
    }
   ],
   "source": [
    "split_date(train)\n",
    "split_date(test)\n",
    "\n",
    "print(train.shape, test.shape)\n",
    "\n",
    "MeanOnFeatures(train)\n",
    "MeanOnFeatures(test)"
   ]
  },
  {
   "cell_type": "code",
   "execution_count": 20,
   "metadata": {},
   "outputs": [
    {
     "name": "stdout",
     "output_type": "stream",
     "text": [
      "(72983, 41) (48707, 40)\n"
     ]
    }
   ],
   "source": [
    "print(train.shape, test.shape)"
   ]
  },
  {
   "cell_type": "markdown",
   "metadata": {},
   "source": [
    "Handling NaN"
   ]
  },
  {
   "cell_type": "code",
   "execution_count": 21,
   "metadata": {},
   "outputs": [
    {
     "data": {
      "text/plain": [
       "RefId                                                  0\n",
       "IsBadBuy                                               0\n",
       "PurchDate                                              0\n",
       "Auction                                                0\n",
       "VehYear                                                0\n",
       "VehicleAge                                             0\n",
       "Make                                                   0\n",
       "Model                                                  0\n",
       "Trim                                                2360\n",
       "SubModel                                               8\n",
       "Color                                                  8\n",
       "Transmission                                           9\n",
       "WheelTypeID                                         3169\n",
       "WheelType                                           3174\n",
       "VehOdo                                                 0\n",
       "Nationality                                            5\n",
       "Size                                                   5\n",
       "TopThreeAmericanName                                   5\n",
       "MMRAcquisitionAuctionAveragePrice                     18\n",
       "MMRAcquisitionAuctionCleanPrice                       18\n",
       "MMRAcquisitionRetailAveragePrice                      18\n",
       "MMRAcquisitonRetailCleanPrice                         18\n",
       "MMRCurrentAuctionAveragePrice                        315\n",
       "MMRCurrentAuctionCleanPrice                          315\n",
       "MMRCurrentRetailAveragePrice                         315\n",
       "MMRCurrentRetailCleanPrice                           315\n",
       "PRIMEUNIT                                          69564\n",
       "AUCGUART                                           69564\n",
       "BYRNO                                                  0\n",
       "VNZIP1                                                 0\n",
       "VNST                                                   0\n",
       "VehBCost                                               0\n",
       "IsOnlineSale                                           0\n",
       "WarrantyCost                                           0\n",
       "Year                                                   0\n",
       "mean_MMRCurrentAuctionAveragePrice_Make                0\n",
       "mean_MMRCurrentAuctionAveragePrice_Model               3\n",
       "mean_MMRCurrentAuctionAveragePrice_Trim             2360\n",
       "mean_MMRCurrentAuctionAveragePrice_SubModel           11\n",
       "mean_MMRCurrentAuctionAveragePrice_Color               8\n",
       "mean_MMRCurrentAuctionAveragePrice_Transmission        9\n",
       "dtype: int64"
      ]
     },
     "execution_count": 21,
     "metadata": {},
     "output_type": "execute_result"
    }
   ],
   "source": [
    "train.isnull().sum()"
   ]
  },
  {
   "cell_type": "code",
   "execution_count": 22,
   "metadata": {},
   "outputs": [
    {
     "data": {
      "text/plain": [
       "AUTO      70398\n",
       "MANUAL     2575\n",
       "Manual        1\n",
       "Name: Transmission, dtype: int64"
      ]
     },
     "execution_count": 22,
     "metadata": {},
     "output_type": "execute_result"
    }
   ],
   "source": [
    "train.Transmission.value_counts()"
   ]
  },
  {
   "cell_type": "code",
   "execution_count": 23,
   "metadata": {},
   "outputs": [],
   "source": [
    "# Merge MANUAL and Manual\n",
    "..."
   ]
  },
  {
   "cell_type": "markdown",
   "metadata": {},
   "source": [
    "Target, isBadBuy, is unbalanced"
   ]
  },
  {
   "cell_type": "code",
   "execution_count": 24,
   "metadata": {},
   "outputs": [
    {
     "data": {
      "text/plain": [
       "0    64007\n",
       "1     8976\n",
       "Name: IsBadBuy, dtype: int64"
      ]
     },
     "execution_count": 24,
     "metadata": {},
     "output_type": "execute_result"
    }
   ],
   "source": [
    "..."
   ]
  },
  {
   "cell_type": "code",
   "execution_count": 25,
   "metadata": {},
   "outputs": [
    {
     "name": "stdout",
     "output_type": "stream",
     "text": [
      "1    64007\n",
      "0    64007\n",
      "Name: IsBadBuy, dtype: int64\n"
     ]
    },
    {
     "data": {
      "image/png": "[encoded data removed]",
      "text/plain": [
       "<Figure size 432x288 with 1 Axes>"
      ]
     },
     "metadata": {
      "needs_background": "light"
     },
     "output_type": "display_data"
    }
   ],
   "source": [
    "count_class_0, count_class_1 = train.IsBadBuy.value_counts()\n",
    "\n",
    "#separate by value\n",
    "...\n",
    "\n",
    "df_class_1_over = df_class_1.sample(count_class_0, replace=True)\n",
    "df_test_over = pd.concat([df_class_0, df_class_1_over], axis=0)\n",
    "\n",
    "print(df_test_over.IsBadBuy.value_counts())\n",
    "\n",
    "..."
   ]
  },
  {
   "cell_type": "markdown",
   "metadata": {},
   "source": [
    "### Data Cleaning and Splitting"
   ]
  },
  {
   "cell_type": "markdown",
   "metadata": {},
   "source": [
    "Preparation for splitting"
   ]
  },
  {
   "cell_type": "code",
   "execution_count": 26,
   "metadata": {},
   "outputs": [],
   "source": [
    "#create X and y datasets for splitting \n",
    "X = df_test_over.drop([\"RefId\",'IsBadBuy'], axis=1)\n",
    "y = df_test_over['IsBadBuy']"
   ]
  },
  {
   "cell_type": "code",
   "execution_count": 27,
   "metadata": {},
   "outputs": [],
   "source": [
    "..."
   ]
  },
  {
   "cell_type": "code",
   "execution_count": 28,
   "metadata": {},
   "outputs": [],
   "source": [
    "numerical_features = [c for c, dtype in zip(X.columns, X.dtypes)\n",
    "                     if dtype.kind in ['i','f']]\n",
    "categorical_features = [c for c, dtype in zip(X.columns, X.dtypes)\n",
    "                     if dtype.kind not in ['i','f']]"
   ]
  },
  {
   "cell_type": "markdown",
   "metadata": {},
   "source": [
    "Splitting"
   ]
  },
  {
   "cell_type": "code",
   "execution_count": 29,
   "metadata": {},
   "outputs": [],
   "source": [
    "#import train_test_split library\n",
    "from sklearn.model_selection import train_test_split\n",
    "\n",
    "# create train test split\n",
    "... "
   ]
  },
  {
   "cell_type": "markdown",
   "metadata": {},
   "source": [
    "### Implementing **Random Forest**"
   ]
  },
  {
   "cell_type": "code",
   "execution_count": 30,
   "metadata": {},
   "outputs": [],
   "source": [
    "preprocessor = make_column_transformer(\n",
    "    (make_pipeline(\n",
    "        SimpleImputer(strategy = 'median'),\n",
    "        #KNNImputer(n_neighbors=2, weights=\"uniform\"),\n",
    "        MinMaxScaler()\n",
    "    ),\n",
    "     numerical_features),\n",
    "    ...\n",
    ")"
   ]
  },
  {
   "cell_type": "code",
   "execution_count": 31,
   "metadata": {},
   "outputs": [],
   "source": [
    "preprocessor_best = make_pipeline(\n",
    "    ...\n",
    ")"
   ]
  },
  {
   "cell_type": "markdown",
   "metadata": {},
   "source": [
    "<code>class sklearn.ensemble.**RandomForestClassifier**</code>(n_estimators=100, \\*, criterion='gini', max_depth=None, min_samples_split=2, min_samples_leaf=1, min_weight_fraction_leaf=0.0, max_features='sqrt', max_leaf_nodes=None, min_impurity_decrease=0.0, bootstrap=True, oob_score=False, n_jobs=None, random_state=None, verbose=0, warm_start=False, class_weight=None, ccp_alpha=0.0, max_samples=None)"
   ]
  },
  {
   "cell_type": "code",
   "execution_count": 32,
   "metadata": {},
   "outputs": [],
   "source": [
    "RF_Model = make_pipeline(preprocessor_best, RandomForestClassifier(n_estimators = 100))"
   ]
  },
  {
   "cell_type": "code",
   "execution_count": 33,
   "metadata": {},
   "outputs": [
    {
     "data": {
      "text/plain": [
       "1.0"
      ]
     },
     "execution_count": 33,
     "metadata": {},
     "output_type": "execute_result"
    }
   ],
   "source": [
    "..."
   ]
  },
  {
   "cell_type": "code",
   "execution_count": 34,
   "metadata": {},
   "outputs": [
    {
     "data": {
      "text/plain": [
       "0.9830230438744955"
      ]
     },
     "execution_count": 34,
     "metadata": {},
     "output_type": "execute_result"
    }
   ],
   "source": [
    "..."
   ]
  },
  {
   "cell_type": "markdown",
   "metadata": {},
   "source": [
    "The model has learned the training examples excellently and doesn’t generalize well to previously unseen examples. To resolve oversampling, it was induced some overlaps between testing and training set - hence is is observed a very high accuracy - **“overfitting”**\n",
    "\n",
    "Two possible solutions:\n",
    "\n",
    "- Hyperparameter tuning to overcome the overfitting.\n",
    "- Instead of splitting the data into train and testing set, let us train on the entire set in one go - K-fold cross validation."
   ]
  },
  {
   "cell_type": "markdown",
   "metadata": {},
   "source": [
    "### Hyperparameter Tuning — Random Forest"
   ]
  },
  {
   "cell_type": "code",
   "execution_count": 35,
   "metadata": {},
   "outputs": [],
   "source": [
    "# Number of trees in random forest\n",
    "#n_estimators = [int(x) for x in np.linspace(start = 100, stop = 1000, num = 19)]\n",
    "\n",
    "# Number of features to consider at every split\n",
    "#max_features = ['auto', 'sqrt']\n",
    "\n",
    "#Maximum number of levels in tree\n",
    "#max_depth = [2,4,6,8]\n",
    "\n",
    "# Minimum number of samples required to split a node\n",
    "#min_samples_split = [2, 5]\n",
    "\n",
    "# Minimum number of samples required at each leaf node\n",
    "#min_samples_leaf = [1, 2]\n",
    "\n",
    "# Method of selecting samples for training each tree\n",
    "#bootstrap = [True, False]"
   ]
  },
  {
   "cell_type": "code",
   "execution_count": null,
   "metadata": {},
   "outputs": [],
   "source": [
    "# Create the param grid\n",
    "param_grid = {'randomforestclassifier__n_estimators': n_estimators,\n",
    "              'randomforestclassifier__max_features': max_features,\n",
    "              'randomforestclassifier__max_depth': max_depth,\n",
    "              'randomforestclassifier__min_samples_split': min_samples_split,\n",
    "              'randomforestclassifier__min_samples_leaf': min_samples_leaf,\n",
    "              'randomforestclassifier__bootstrap': bootstrap\n",
    "             }\n",
    "print(param_grid)"
   ]
  },
  {
   "cell_type": "code",
   "execution_count": 37,
   "metadata": {},
   "outputs": [],
   "source": [
    "from sklearn.model_selection import RandomizedSearchCV\n",
    "\n",
    "rf_RandomGrid = RandomizedSearchCV(estimator = RF_Model, param_distributions = param_grid, cv = 3, verbose=1, n_jobs = -1, n_iter = 5, scoring = 'f1')"
   ]
  },
  {
   "cell_type": "code",
   "execution_count": null,
   "metadata": {},
   "outputs": [],
   "source": [
    "%%time\n",
    "..."
   ]
  },
  {
   "cell_type": "code",
   "execution_count": 39,
   "metadata": {},
   "outputs": [
    {
     "data": {
      "text/plain": [
       "0.6737277128350455"
      ]
     },
     "execution_count": 39,
     "metadata": {},
     "output_type": "execute_result"
    }
   ],
   "source": [
    "..."
   ]
  },
  {
   "cell_type": "code",
   "execution_count": 40,
   "metadata": {},
   "outputs": [
    {
     "data": {
      "text/plain": [
       "0.6696835076294804"
      ]
     },
     "execution_count": 40,
     "metadata": {},
     "output_type": "execute_result"
    }
   ],
   "source": [
    "..."
   ]
  },
  {
   "cell_type": "markdown",
   "metadata": {},
   "source": [
    "Overfitting reduced"
   ]
  },
  {
   "cell_type": "code",
   "execution_count": null,
   "metadata": {},
   "outputs": [],
   "source": [
    "..."
   ]
  },
  {
   "cell_type": "markdown",
   "metadata": {},
   "source": [
    "Accuracy"
   ]
  },
  {
   "cell_type": "code",
   "execution_count": 42,
   "metadata": {},
   "outputs": [
    {
     "name": "stdout",
     "output_type": "stream",
     "text": [
      "Train : 0.674\n",
      "Test : 0.670\n"
     ]
    }
   ],
   "source": [
    "..."
   ]
  },
  {
   "cell_type": "markdown",
   "metadata": {},
   "source": [
    "It is a generalized model"
   ]
  },
  {
   "cell_type": "markdown",
   "metadata": {},
   "source": [
    "### Implementing **XGBoost**"
   ]
  },
  {
   "cell_type": "code",
   "execution_count": 45,
   "metadata": {},
   "outputs": [],
   "source": [
    "preprocessor = make_column_transformer(\n",
    "    (make_pipeline(\n",
    "        #SimpleImputer(strategy = 'median')\n",
    "        KNNImputer(n_neighbors=2, weights=\"uniform\"),\n",
    "        MinMaxScaler()),\n",
    "     numerical_features),\n",
    "    ...\n",
    ")\n",
    "\n",
    "preprocessor_best = make_pipeline(\n",
    "    ...\n",
    ")"
   ]
  },
  {
   "cell_type": "markdown",
   "metadata": {},
   "source": [
    "<code>class xgboost.**XGBClassifier**<\\code>(\\*, objective='binary:logistic', use_label_encoder=None, **kwargs)"
   ]
  },
  {
   "cell_type": "code",
   "execution_count": 46,
   "metadata": {},
   "outputs": [],
   "source": [
    "from xgboost import XGBClassifier\n",
    "import xgboost as xgb\n",
    "..."
   ]
  },
  {
   "cell_type": "code",
   "execution_count": null,
   "metadata": {},
   "outputs": [],
   "source": [
    "%%time\n",
    "..."
   ]
  },
  {
   "cell_type": "code",
   "execution_count": 48,
   "metadata": {},
   "outputs": [
    {
     "data": {
      "text/plain": [
       "0.8300029684253285"
      ]
     },
     "execution_count": 48,
     "metadata": {},
     "output_type": "execute_result"
    }
   ],
   "source": [
    "..."
   ]
  },
  {
   "cell_type": "markdown",
   "metadata": {},
   "source": [
    "K Fold Cross Validation"
   ]
  },
  {
   "cell_type": "code",
   "execution_count": 49,
   "metadata": {},
   "outputs": [],
   "source": [
    "from sklearn.model_selection import KFold"
   ]
  },
  {
   "cell_type": "code",
   "execution_count": 50,
   "metadata": {},
   "outputs": [],
   "source": [
    "def train_and_evaluate(X_train, train_targets, X_val, val_targets, **params):\n",
    "    ..."
   ]
  },
  {
   "cell_type": "code",
   "execution_count": 51,
   "metadata": {},
   "outputs": [],
   "source": [
    "..."
   ]
  },
  {
   "cell_type": "code",
   "execution_count": 52,
   "metadata": {},
   "outputs": [
    {
     "name": "stdout",
     "output_type": "stream",
     "text": [
      "Train Accuracy: 0.7179599847672613, Validation Accuracy: 0.3466390657344842\n",
      "Train Accuracy: 0.7261134057864878, Validation Accuracy: 0.30801077998672033\n",
      "Train Accuracy: 0.7190633818632765, Validation Accuracy: 0.47986564074522514\n",
      "Train Accuracy: 0.7396764019490094, Validation Accuracy: 0.4164746318790767\n",
      "Train Accuracy: 0.7381263914385033, Validation Accuracy: 0.426060464026248\n"
     ]
    }
   ],
   "source": [
    "models = []\n",
    "\n",
    "for train_idxs, val_idxs in kfold.split(X):\n",
    "    ...\n",
    "    print('Train Accuracy: {}, Validation Accuracy: {}'.format(train_accuracy, val_accuracy))"
   ]
  },
  {
   "cell_type": "markdown",
   "metadata": {},
   "source": [
    "The train accuracy is high and the validation accuracy is low.\n",
    "Let's create an average of the 5 models so the errors can be reduced."
   ]
  },
  {
   "cell_type": "code",
   "execution_count": 53,
   "metadata": {},
   "outputs": [],
   "source": [
    "#import numpy as np\n",
    "\n",
    "def predict_avg(models, inputs):\n",
    "    ..."
   ]
  },
  {
   "cell_type": "code",
   "execution_count": 54,
   "metadata": {},
   "outputs": [],
   "source": [
    "..."
   ]
  },
  {
   "cell_type": "markdown",
   "metadata": {},
   "source": [
    "### Hyperparameter Tuning — XGBoost"
   ]
  },
  {
   "cell_type": "code",
   "execution_count": 55,
   "metadata": {},
   "outputs": [],
   "source": [
    "def test_params_kfold(n_splits, **params):\n",
    "    ...\n",
    "    print('Train accuracy: {}, Validation accuracy: {}'.format(np.mean(train_accuracys), np.mean(val_accuracys)))\n",
    "    return models"
   ]
  },
  {
   "cell_type": "code",
   "execution_count": null,
   "metadata": {},
   "outputs": [],
   "source": [
    "#%%time\n",
    "#test_params_kfold(5, n_estimators=10)"
   ]
  },
  {
   "cell_type": "code",
   "execution_count": null,
   "metadata": {},
   "outputs": [],
   "source": [
    "#test_params_kfold(5, n_estimators=100)"
   ]
  },
  {
   "cell_type": "code",
   "execution_count": null,
   "metadata": {},
   "outputs": [],
   "source": [
    "#test_params_kfold(5, n_estimators=240)"
   ]
  },
  {
   "cell_type": "code",
   "execution_count": null,
   "metadata": {},
   "outputs": [],
   "source": [
    "#%%time\n",
    "#test_params_kfold(5, n_estimators=500)"
   ]
  },
  {
   "cell_type": "code",
   "execution_count": null,
   "metadata": {},
   "outputs": [],
   "source": [
    "#%%time\n",
    "#test_params_kfold(5, n_estimators=500, max_depth=2)"
   ]
  },
  {
   "cell_type": "code",
   "execution_count": null,
   "metadata": {},
   "outputs": [],
   "source": [
    "#%%time\n",
    "#test_params_kfold(5, n_estimators=500, max_depth=4)"
   ]
  },
  {
   "cell_type": "code",
   "execution_count": null,
   "metadata": {},
   "outputs": [],
   "source": [
    "#%%time\n",
    "#test_params_kfold(5, n_estimators=500, max_depth=6)"
   ]
  },
  {
   "cell_type": "code",
   "execution_count": null,
   "metadata": {},
   "outputs": [],
   "source": [
    "#%%time\n",
    "#test_params_kfold(5, n_estimators=500, max_depth=6, learning_rate=0.01)"
   ]
  },
  {
   "cell_type": "code",
   "execution_count": null,
   "metadata": {},
   "outputs": [],
   "source": [
    "#%%time\n",
    "#test_params_kfold(5, n_estimators=500, max_depth=6, learning_rate=0.1)"
   ]
  },
  {
   "cell_type": "code",
   "execution_count": null,
   "metadata": {},
   "outputs": [],
   "source": [
    "#%%time\n",
    "#test_params_kfold(5, n_estimators=500, max_depth=6, learning_rate=0.3)"
   ]
  },
  {
   "cell_type": "code",
   "execution_count": null,
   "metadata": {},
   "outputs": [],
   "source": [
    "#%%time\n",
    "#test_params_kfold(5, n_estimators=500, max_depth=6, learning_rate=0.9)"
   ]
  },
  {
   "cell_type": "code",
   "execution_count": null,
   "metadata": {},
   "outputs": [],
   "source": [
    "#%%time\n",
    "#test_params_kfold(5, n_estimators=500, max_depth=6, learning_rate=0.99)"
   ]
  },
  {
   "cell_type": "code",
   "execution_count": null,
   "metadata": {},
   "outputs": [],
   "source": [
    "#Putting it all together\n",
    "XG_model_with_paramter_tuning = make_pipeline(\n",
    "    ...\n",
    ")\n",
    "\n",
    "XG_model_with_paramter_tuning.fit(X,y)"
   ]
  },
  {
   "cell_type": "markdown",
   "metadata": {},
   "source": [
    "### Sample Prediction and Saving the model"
   ]
  },
  {
   "cell_type": "code",
   "execution_count": 60,
   "metadata": {},
   "outputs": [],
   "source": [
    "def predict_input(model, single_input):\n",
    "    ...\n",
    "    return pred, prob[0]"
   ]
  },
  {
   "cell_type": "code",
   "execution_count": 61,
   "metadata": {},
   "outputs": [],
   "source": [
    "new_input = {'RefId':48708,\n",
    "             'PurchDate':2001-12-2,\n",
    "             'Auction':'ADESA',\n",
    "             'VehYear':2004,\n",
    "             'VehicleAge':6,\n",
    "             'Make':'DODGE',\n",
    "             'Model':'DURANGO 2WD V8',\n",
    "             'Trim':'Adv',\n",
    "             'SubModel':'4D SUV 4.7L ADVENTURER',\n",
    "             'Color':'SILVER',\n",
    "             'Transmission':'AUTO',\n",
    "             'WheelTypeID':1.0,\n",
    "             'WheelType':'Alloy',\n",
    "             'VehOdo':33333,\n",
    "             'Nationality':'TOP LINE ASIAN',\n",
    "             'Size':'MEDIUM',\n",
    "             'TopThreeAmericanName':'OTHER',\n",
    "             'MMRAcquisitionAuctionAveragePrice':7777, \n",
    "             'MMRAcquisitionAuctionCleanPrice':8888,\n",
    "             'MMRAcquisitionRetailAveragePrice':10000, \n",
    "             'MMRAcquisitonRetailCleanPrice':12000,\n",
    "             'MMRCurrentAuctionAveragePrice':7777, \n",
    "             'MMRCurrentAuctionCleanPrice':9999,\n",
    "             'MMRCurrentRetailAveragePrice':11111, \n",
    "             'MMRCurrentRetailCleanPrice':11111,\n",
    "             'PRIMEUNIT':'NaN', \n",
    "             'AUCGUART':'NaN', \n",
    "             'BYRNO':17777, \n",
    "             'VNZIP1': 30212,\n",
    "             'VNST':'GA',             \n",
    "             'VehBCost':7777, \n",
    "             'IsOnlineSale':0,\n",
    "             'WarrantyCost':600, \n",
    "             'Year':2010, \n",
    "             'mean_MMRCurrentAuctionAveragePrice_Make':7021.627649,\n",
    "             'mean_MMRCurrentAuctionAveragePrice_Model':7091.0279,\n",
    "             'mean_MMRCurrentAuctionAveragePrice_Trim':6171.007828,\n",
    "             'mean_MMRCurrentAuctionAveragePrice_SubModel':5577.972891,\n",
    "             'mean_MMRCurrentAuctionAveragePrice_Color':6794.120395,\n",
    "             'mean_MMRCurrentAuctionAveragePrice_Transmission':6180.060667}"
   ]
  },
  {
   "cell_type": "code",
   "execution_count": 62,
   "metadata": {},
   "outputs": [
    {
     "data": {
      "text/plain": [
       "(array([0]), 0.6534384764915909)"
      ]
     },
     "execution_count": 62,
     "metadata": {},
     "output_type": "execute_result"
    }
   ],
   "source": [
    "..."
   ]
  },
  {
   "cell_type": "markdown",
   "metadata": {},
   "source": [
    "Saving the model"
   ]
  },
  {
   "cell_type": "code",
   "execution_count": 63,
   "metadata": {},
   "outputs": [
    {
     "data": {
      "text/plain": [
       "['car_quality_check.joblib']"
      ]
     },
     "execution_count": 63,
     "metadata": {},
     "output_type": "execute_result"
    }
   ],
   "source": [
    "import joblib\n",
    "\n",
    "..."
   ]
  },
  {
   "cell_type": "code",
   "execution_count": 64,
   "metadata": {},
   "outputs": [],
   "source": [
    "..."
   ]
  },
  {
   "cell_type": "code",
   "execution_count": 65,
   "metadata": {},
   "outputs": [
    {
     "name": "stdout",
     "output_type": "stream",
     "text": [
      "Accuracy of the model Random forest is 0.670\n"
     ]
    }
   ],
   "source": [
    "..."
   ]
  }
 ],
 "metadata": {
  "kernelspec": {
   "display_name": "Python 3 (ipykernel)",
   "language": "python",
   "name": "python3"
  },
  "language_info": {
   "codemirror_mode": {
    "name": "ipython",
    "version": 3
   },
   "file_extension": ".py",
   "mimetype": "text/x-python",
   "name": "python",
   "nbconvert_exporter": "python",
   "pygments_lexer": "ipython3",
   "version": "3.9.12"
  }
 },
 "nbformat": 4,
 "nbformat_minor": 4
}

{
 "cells": [
  {
   "cell_type": "markdown",
   "metadata": {},
   "source": [
    "### Example for DNN with the IMDB dataset (including regularization)"
   ]
  },
  {
   "cell_type": "markdown",
   "metadata": {},
   "source": [
    "Loading the dataset and checking dimensions"
   ]
  },
  {
   "cell_type": "code",
   "execution_count": 1,
   "metadata": {
    "colab": {
     "base_uri": "https://localhost:8080/",
     "height": 207
    },
    "colab_type": "code",
    "id": "pVSI9UaiD8wd",
    "outputId": "73e7808a-1ee0-4e30-ce14-38bcf846d29a"
   },
   "outputs": [
    {
     "name": "stderr",
     "output_type": "stream",
     "text": [
      "2023-04-01 17:23:21.984562: I tensorflow/tsl/cuda/cudart_stub.cc:28] Could not find cuda drivers on your machine, GPU will not be used.\n",
      "2023-04-01 17:23:22.018369: I tensorflow/tsl/cuda/cudart_stub.cc:28] Could not find cuda drivers on your machine, GPU will not be used.\n",
      "2023-04-01 17:23:22.019221: I tensorflow/core/platform/cpu_feature_guard.cc:182] This TensorFlow binary is optimized to use available CPU instructions in performance-critical operations.\n",
      "To enable the following instructions: AVX2 FMA, in other operations, rebuild TensorFlow with the appropriate compiler flags.\n",
      "2023-04-01 17:23:22.702285: W tensorflow/compiler/tf2tensorrt/utils/py_utils.cc:38] TF-TRT Warning: Could not find TensorRT\n"
     ]
    },
    {
     "data": {
      "text/html": [
       "<div>\n",
       "<style scoped>\n",
       "    .dataframe tbody tr th:only-of-type {\n",
       "        vertical-align: middle;\n",
       "    }\n",
       "\n",
       "    .dataframe tbody tr th {\n",
       "        vertical-align: top;\n",
       "    }\n",
       "\n",
       "    .dataframe thead th {\n",
       "        text-align: right;\n",
       "    }\n",
       "</style>\n",
       "<table border=\"1\" class=\"dataframe\">\n",
       "  <thead>\n",
       "    <tr style=\"text-align: right;\">\n",
       "      <th></th>\n",
       "      <th>sentiment</th>\n",
       "      <th>content</th>\n",
       "    </tr>\n",
       "  </thead>\n",
       "  <tbody>\n",
       "    <tr>\n",
       "      <th>0</th>\n",
       "      <td>empty</td>\n",
       "      <td>@tiffanylue i know  i was listenin to bad habi...</td>\n",
       "    </tr>\n",
       "    <tr>\n",
       "      <th>1</th>\n",
       "      <td>sadness</td>\n",
       "      <td>Layin n bed with a headache  ughhhh...waitin o...</td>\n",
       "    </tr>\n",
       "    <tr>\n",
       "      <th>2</th>\n",
       "      <td>sadness</td>\n",
       "      <td>Funeral ceremony...gloomy friday...</td>\n",
       "    </tr>\n",
       "    <tr>\n",
       "      <th>3</th>\n",
       "      <td>enthusiasm</td>\n",
       "      <td>wants to hang out with friends SOON!</td>\n",
       "    </tr>\n",
       "    <tr>\n",
       "      <th>4</th>\n",
       "      <td>neutral</td>\n",
       "      <td>@dannycastillo We want to trade with someone w...</td>\n",
       "    </tr>\n",
       "  </tbody>\n",
       "</table>\n",
       "</div>"
      ],
      "text/plain": [
       "    sentiment                                            content\n",
       "0       empty  @tiffanylue i know  i was listenin to bad habi...\n",
       "1     sadness  Layin n bed with a headache  ughhhh...waitin o...\n",
       "2     sadness                Funeral ceremony...gloomy friday...\n",
       "3  enthusiasm               wants to hang out with friends SOON!\n",
       "4     neutral  @dannycastillo We want to trade with someone w..."
      ]
     },
     "execution_count": 1,
     "metadata": {},
     "output_type": "execute_result"
    }
   ],
   "source": [
    "import pandas as pd\n",
    "\n",
    "from sklearn.model_selection import train_test_split\n",
    "from sklearn.preprocessing import LabelEncoder\n",
    "\n",
    "from tensorflow.keras.utils import to_categorical\n",
    "from tensorflow.keras.preprocessing.text import Tokenizer\n",
    "from tensorflow.keras.preprocessing.sequence import pad_sequences\n",
    "\n",
    "import numpy as np\n",
    "\n",
    "from tensorflow.keras import models, layers\n",
    "\n",
    "import matplotlib.pyplot as plt\n",
    "\n",
    "from tensorflow.keras import regularizers\n",
    "\n",
    "from tensorflow.keras.callbacks import EarlyStopping\n",
    "\n",
    "df = pd.read_csv(\"tweet_emotions.csv\")\n",
    "\n",
    "df = df.drop(['tweet_id'], axis=1)\n",
    "\n",
    "df.head()\n"
   ]
  },
  {
   "cell_type": "code",
   "execution_count": 2,
   "metadata": {},
   "outputs": [
    {
     "data": {
      "text/plain": [
       "(40000, 2)"
      ]
     },
     "execution_count": 2,
     "metadata": {},
     "output_type": "execute_result"
    }
   ],
   "source": [
    "df.shape\n"
   ]
  },
  {
   "cell_type": "code",
   "execution_count": 3,
   "metadata": {},
   "outputs": [
    {
     "name": "stdout",
     "output_type": "stream",
     "text": [
      "(30000, 2)\n",
      "(10000, 2)\n"
     ]
    },
    {
     "data": {
      "text/html": [
       "<div>\n",
       "<style scoped>\n",
       "    .dataframe tbody tr th:only-of-type {\n",
       "        vertical-align: middle;\n",
       "    }\n",
       "\n",
       "    .dataframe tbody tr th {\n",
       "        vertical-align: top;\n",
       "    }\n",
       "\n",
       "    .dataframe thead th {\n",
       "        text-align: right;\n",
       "    }\n",
       "</style>\n",
       "<table border=\"1\" class=\"dataframe\">\n",
       "  <thead>\n",
       "    <tr style=\"text-align: right;\">\n",
       "      <th></th>\n",
       "      <th>sentiment</th>\n",
       "      <th>content</th>\n",
       "    </tr>\n",
       "  </thead>\n",
       "  <tbody>\n",
       "    <tr>\n",
       "      <th>0</th>\n",
       "      <td>3</td>\n",
       "      <td>@tiffanylue i know  i was listenin to bad habi...</td>\n",
       "    </tr>\n",
       "    <tr>\n",
       "      <th>1</th>\n",
       "      <td>11</td>\n",
       "      <td>Layin n bed with a headache  ughhhh...waitin o...</td>\n",
       "    </tr>\n",
       "    <tr>\n",
       "      <th>2</th>\n",
       "      <td>11</td>\n",
       "      <td>Funeral ceremony...gloomy friday...</td>\n",
       "    </tr>\n",
       "    <tr>\n",
       "      <th>3</th>\n",
       "      <td>4</td>\n",
       "      <td>wants to hang out with friends SOON!</td>\n",
       "    </tr>\n",
       "    <tr>\n",
       "      <th>4</th>\n",
       "      <td>9</td>\n",
       "      <td>@dannycastillo We want to trade with someone w...</td>\n",
       "    </tr>\n",
       "  </tbody>\n",
       "</table>\n",
       "</div>"
      ],
      "text/plain": [
       "   sentiment                                            content\n",
       "0          3  @tiffanylue i know  i was listenin to bad habi...\n",
       "1         11  Layin n bed with a headache  ughhhh...waitin o...\n",
       "2         11                Funeral ceremony...gloomy friday...\n",
       "3          4               wants to hang out with friends SOON!\n",
       "4          9  @dannycastillo We want to trade with someone w..."
      ]
     },
     "execution_count": 3,
     "metadata": {},
     "output_type": "execute_result"
    }
   ],
   "source": [
    "labels = df['sentiment'].astype('category').cat.categories.tolist()\n",
    "replace_map = {'sentiment' : {k: v for k,v in zip(labels, list(range(1,len(labels)+1)))}}\n",
    "\n",
    "df.replace(replace_map, inplace=True)\n",
    "df.head()#\n",
    "\n",
    "\n",
    "df_train, df_test = train_test_split(df, test_size = 0.25, random_state=2022)\n",
    "\n",
    "print(df_train.shape)\n",
    "print(df_test.shape)\n",
    "\n",
    "(train_data, train_labels), (test_data, test_labels) = (df_train['content'],df_train['sentiment']),(df_test['content'],df_test['sentiment'])\n",
    "train_data[0]\n",
    "df.head()\n"
   ]
  },
  {
   "cell_type": "code",
   "execution_count": 4,
   "metadata": {},
   "outputs": [
    {
     "name": "stdout",
     "output_type": "stream",
     "text": [
      "13\n",
      "[[0. 0. 0. ... 0. 1. 0.]\n",
      " [0. 0. 0. ... 0. 0. 0.]\n",
      " [0. 0. 1. ... 0. 0. 0.]\n",
      " ...\n",
      " [0. 0. 0. ... 0. 0. 1.]\n",
      " [0. 0. 0. ... 0. 0. 1.]\n",
      " [0. 0. 0. ... 0. 0. 0.]]\n"
     ]
    }
   ],
   "source": [
    "print(max(train_labels))\n",
    "train_labels, test_labels = to_categorical(train_labels), to_categorical(test_labels)\n",
    "print(train_labels)"
   ]
  },
  {
   "cell_type": "code",
   "execution_count": 5,
   "metadata": {},
   "outputs": [
    {
     "data": {
      "text/plain": [
       "40000"
      ]
     },
     "execution_count": 5,
     "metadata": {},
     "output_type": "execute_result"
    }
   ],
   "source": [
    "tokenizer = Tokenizer(oov_token='<UNK>')\n",
    "#tokenizer = Tokenizer(oov_token='<OOV>', filters='!\"#$%&()*+,-./:;<=>@[\\]^_`{|}~ ')\n",
    "\n",
    "#ola = pd.concat([train_data, test_data], axis=0)\n",
    "#ola.head()\n",
    "train_data.head()\n",
    "tokenizer.fit_on_texts(pd.concat([train_data, test_data], axis=0))\n",
    "#\n",
    "tokenizer.document_count\n",
    "#tokenizer.word_index\n",
    "#tokenizer.word_index['towards']"
   ]
  },
  {
   "cell_type": "markdown",
   "metadata": {},
   "source": [
    "Exploring and pre-processing the dataset"
   ]
  },
  {
   "cell_type": "code",
   "execution_count": 6,
   "metadata": {},
   "outputs": [
    {
     "name": "stdout",
     "output_type": "stream",
     "text": [
      "40506\n",
      "48998\n",
      "48999\n"
     ]
    }
   ],
   "source": [
    "sequences_train = tokenizer.texts_to_sequences(train_data)\n",
    "sequences_test = tokenizer.texts_to_sequences(test_data)\n",
    "#print(train_data.head())\n",
    "#print(train_data[0])\n",
    "#print(sequences_train[0])\n",
    "\n",
    "#reverse\n",
    "reverse_test = tokenizer.sequences_to_texts(sequences_train)\n",
    "#print(reverse_test[0])\n",
    "\n",
    "m1 = max([max(sequence) for sequence in sequences_train])\n",
    "m2 = max([max(sequence) for sequence in sequences_test])\n",
    "m3 = max(m1,m2) + 1\n",
    "print(m1)\n",
    "print(m2)\n",
    "print(m3)"
   ]
  },
  {
   "cell_type": "code",
   "execution_count": 7,
   "metadata": {},
   "outputs": [
    {
     "name": "stdout",
     "output_type": "stream",
     "text": [
      "[[0. 0. 0. ... 0. 0. 0.]\n",
      " [0. 0. 0. ... 0. 0. 0.]\n",
      " [0. 0. 1. ... 0. 0. 0.]\n",
      " ...\n",
      " [0. 0. 1. ... 0. 0. 0.]\n",
      " [0. 0. 1. ... 0. 0. 0.]\n",
      " [0. 0. 0. ... 0. 0. 0.]]\n",
      "48999\n",
      "48999\n",
      "30000\n",
      "10000\n"
     ]
    }
   ],
   "source": [
    "def vectorize_sequences(sequences, dimension=m3):\n",
    "    results = np.zeros((len(sequences), dimension))\n",
    "    for i, sequence in enumerate(sequences):\n",
    "        results[i, sequence] = 1.\n",
    "    return results\n",
    "\n",
    "x_train = vectorize_sequences(sequences_train)\n",
    "x_test = vectorize_sequences(sequences_test)\n",
    "\n",
    "y_train = np.asarray(train_labels).astype('float32')\n",
    "y_test = np.asarray(test_labels).astype('float32')\n",
    "\n",
    "print(x_train)\n",
    "print(len(x_train[0]))\n",
    "print(len(x_train[100]))\n",
    "\n",
    "print(len(x_train))\n",
    "print(len(x_test))"
   ]
  },
  {
   "cell_type": "code",
   "execution_count": 8,
   "metadata": {},
   "outputs": [],
   "source": [
    "x_val = x_train[:20000]\n",
    "partial_x_train = x_train[20000:]\n",
    "y_val = y_train[:20000]\n",
    "partial_y_train = y_train[20000:]\n",
    "\n",
    "\n",
    "chosen_model = 5"
   ]
  },
  {
   "cell_type": "markdown",
   "metadata": {},
   "source": [
    "Defining the model structure"
   ]
  },
  {
   "cell_type": "code",
   "execution_count": 9,
   "metadata": {
    "colab": {
     "base_uri": "https://localhost:8080/",
     "height": 697
    },
    "colab_type": "code",
    "id": "CsInxgfqEsrj",
    "outputId": "d926ff3c-3060-4cb1-f3f7-f34409687354"
   },
   "outputs": [],
   "source": [
    "if chosen_model == 1:\n",
    "\n",
    "    hidden = 16\n",
    "    \n",
    "    model = models.Sequential()\n",
    "    model.add(layers.Dense(hidden, activation='relu', input_shape=(m3,)))\n",
    "    model.add(layers.Dense(hidden, activation='relu'))\n",
    "    model.add(layers.Dense(14, activation='softmax'))\n"
   ]
  },
  {
   "cell_type": "markdown",
   "metadata": {},
   "source": [
    "Training the model and plotting errors along the process"
   ]
  },
  {
   "cell_type": "code",
   "execution_count": 10,
   "metadata": {},
   "outputs": [],
   "source": [
    "if chosen_model == 1:\n",
    "    model.compile(optimizer='rmsprop',\n",
    "                  loss='categorical_crossentropy',\n",
    "                  metrics=['acc'])\n",
    "    \n",
    "    model.summary()\n",
    "    \n",
    "    history = model.fit(partial_x_train,\n",
    "                        partial_y_train,\n",
    "                        epochs=20,\n",
    "                        batch_size=512,\n",
    "                        validation_data=(x_val, y_val))"
   ]
  },
  {
   "cell_type": "code",
   "execution_count": null,
   "metadata": {},
   "outputs": [],
   "source": []
  },
  {
   "cell_type": "code",
   "execution_count": 11,
   "metadata": {
    "colab": {
     "base_uri": "https://localhost:8080/",
     "height": 295
    },
    "colab_type": "code",
    "id": "ZN4LHD-bGfKs",
    "outputId": "5d9159b1-c911-4ada-8104-e409ed6d2d33"
   },
   "outputs": [],
   "source": [
    "if chosen_model == 1:\n",
    "    history_dict = history.history\n",
    "    acc_values = history_dict['acc'] \n",
    "    val_acc_values = history_dict['val_acc']\n",
    "    epochs = range(1, len(acc_values) + 1)\n",
    "    plt.plot(epochs, acc_values, 'bo', label='Training acc')\n",
    "    plt.plot(epochs, val_acc_values, 'b', label='Validation acc')\n",
    "    plt.title('Training and validation accuracy')\n",
    "    plt.xlabel('Epochs')\n",
    "    plt.ylabel('Acc')\n",
    "    plt.legend()\n",
    "    plt.show()\n"
   ]
  },
  {
   "cell_type": "code",
   "execution_count": 12,
   "metadata": {},
   "outputs": [],
   "source": [
    "if chosen_model == 1:\n",
    "    loss_values = history_dict['loss'] \n",
    "    val_loss_values = history_dict['val_loss']\n",
    "    \n",
    "    plt.plot(epochs, loss_values, 'bo', label='Training loss')\n",
    "    plt.plot(epochs, val_loss_values, 'b', label='Validation loss')\n",
    "    plt.title('Training and validation loss')\n",
    "    plt.xlabel('Epochs')\n",
    "    plt.ylabel('Loss')\n",
    "    plt.legend()\n",
    "    plt.show()"
   ]
  },
  {
   "cell_type": "markdown",
   "metadata": {},
   "source": [
    "Predicting for the test set and calculating errors"
   ]
  },
  {
   "cell_type": "code",
   "execution_count": 13,
   "metadata": {
    "colab": {
     "base_uri": "https://localhost:8080/",
     "height": 85
    },
    "colab_type": "code",
    "id": "2FvdPDyNGsS7",
    "outputId": "69dde8b5-ddb9-4ad0-ea54-a2ab985312c7"
   },
   "outputs": [],
   "source": [
    "if chosen_model == 1:\n",
    "    preds = model.predict(x_test) # probabilities\n",
    "    class_preds = preds > 0.5\n",
    "    \n",
    "    print(preds[0:5])\n",
    "    class_preds[0:5]"
   ]
  },
  {
   "cell_type": "code",
   "execution_count": 14,
   "metadata": {},
   "outputs": [],
   "source": [
    "if chosen_model == 1:\n",
    "    results = model.evaluate(x_test, y_test, verbose = 0)\n",
    "    results"
   ]
  },
  {
   "cell_type": "markdown",
   "metadata": {},
   "source": [
    "Overfitting - controlling capacity of the model"
   ]
  },
  {
   "cell_type": "code",
   "execution_count": 15,
   "metadata": {},
   "outputs": [],
   "source": [
    "if chosen_model == 2:\n",
    "    hidden = 4\n",
    "    \n",
    "    model2 = models.Sequential()\n",
    "    model2.add(layers.Dense(hidden, activation='relu', input_shape=(m3,)))\n",
    "    model2.add(layers.Dense(hidden, activation='relu'))\n",
    "    model2.add(layers.Dense(14, activation='softmax'))\n",
    "    \n",
    "    model2.compile(optimizer='rmsprop',\n",
    "                  loss='categorical_crossentropy',\n",
    "                  metrics=['acc'])\n",
    "    \n",
    "    history2 = model2.fit(partial_x_train,\n",
    "                        partial_y_train,\n",
    "                        epochs=20,\n",
    "                        batch_size=512,\n",
    "                        validation_data=(x_val, y_val))\n",
    "    \n",
    "    results2 = model2.evaluate(x_test, y_test, verbose = 0)\n",
    "    print(results2)\n",
    "    \n",
    "    history_dict2 = history2.history\n",
    "    loss_values2 = history_dict2['loss'] \n",
    "    val_loss_values2 = history_dict2['val_loss']\n",
    "    epochs = range(1, len(loss_values2) + 1)\n",
    "\n",
    "    \n",
    "    plt.plot(epochs, loss_values2, 'bo', label='Training loss')\n",
    "    plt.plot(epochs, val_loss_values2, 'b', label='Validation loss')\n",
    "    plt.title('Training and validation loss (4 hidden neurons)')\n",
    "    plt.xlabel('Epochs')\n",
    "    plt.ylabel('Loss')\n",
    "    plt.legend()\n",
    "    plt.show()"
   ]
  },
  {
   "cell_type": "code",
   "execution_count": 16,
   "metadata": {},
   "outputs": [],
   "source": [
    "if chosen_model == 3:\n",
    "    hidden = 64\n",
    "    \n",
    "    model3 = models.Sequential()\n",
    "    model3.add(layers.Dense(hidden, activation='relu', input_shape=(m3,)))\n",
    "    model3.add(layers.Dense(hidden, activation='relu'))\n",
    "    model3.add(layers.Dense(14    , activation='softmax'))\n",
    "    \n",
    "    model3.compile(optimizer='rmsprop',\n",
    "                  loss='categorical_crossentropy',\n",
    "                  metrics=['acc'])\n",
    "    \n",
    "    history3 = model3.fit(partial_x_train,\n",
    "                        partial_y_train,\n",
    "                        epochs=20,\n",
    "                        batch_size=512,\n",
    "                        validation_data=(x_val, y_val))\n",
    "    \n",
    "    \n",
    "    results3 = model3.evaluate(x_test, y_test, verbose = 0)\n",
    "    print(results3)\n",
    "    \n",
    "    history_dict3 = history3.history\n",
    "    loss_values3 = history_dict3['loss'] \n",
    "    val_loss_values3 = history_dict3['val_loss']\n",
    "    epochs = range(1, len(loss_values3) + 1)\n",
    "\n",
    "    \n",
    "    plt.plot(epochs, loss_values3, 'bo', label='Training loss')\n",
    "    plt.plot(epochs, val_loss_values3, 'b', label='Validation loss')\n",
    "    plt.title('Training and validation loss (64 hidden neurons)')\n",
    "    plt.xlabel('Epochs')\n",
    "    plt.ylabel('Loss')\n",
    "    plt.legend()\n",
    "    plt.show()"
   ]
  },
  {
   "cell_type": "markdown",
   "metadata": {},
   "source": [
    "L2 regularization "
   ]
  },
  {
   "cell_type": "code",
   "execution_count": 17,
   "metadata": {
    "colab": {
     "base_uri": "https://localhost:8080/",
     "height": 992
    },
    "colab_type": "code",
    "id": "0xeEL0cnGzCp",
    "outputId": "de2d60ea-f476-448c-8edf-c80ef898eb96"
   },
   "outputs": [],
   "source": [
    "if chosen_model == 4:\n",
    "    hidden = 16\n",
    "    \n",
    "    model_l2 = models.Sequential()\n",
    "    model_l2.add(layers.Dense(hidden, activation='relu', kernel_regularizer=regularizers.l2(0.001),\n",
    "                           input_shape=(m3,)))\n",
    "    model_l2.add(layers.Dense(hidden, activation='relu', kernel_regularizer=regularizers.l2(0.001)))\n",
    "    model_l2.add(layers.Dense(14, activation='softmax'))\n",
    "    \n",
    "    model_l2.compile(optimizer='rmsprop',\n",
    "                  loss='categorical_crossentropy',\n",
    "                  metrics=['acc'])\n",
    "    \n",
    "    history_l2 = model_l2.fit(partial_x_train,\n",
    "                        partial_y_train,\n",
    "                        epochs=20,\n",
    "                        batch_size=512,\n",
    "                        validation_data=(x_val, y_val))\n",
    "    \n",
    "    history_l2_dict = history_l2.history\n",
    "    loss_values_l2 = history_l2_dict['loss'] \n",
    "    val_loss_values_l2 = history_l2_dict['val_loss']\n",
    "    epochs = range(1, len(loss_values_l2) + 1)\n",
    "    \n",
    "    plt.plot(epochs, loss_values_l2, 'bo', label='Training loss')\n",
    "    plt.plot(epochs, val_loss_values_l2, 'b', label='Validation loss')\n",
    "    plt.title('Training and validation loss - L2 regularizer')\n",
    "    plt.xlabel('Epochs')\n",
    "    plt.ylabel('Loss')\n",
    "    plt.legend()\n",
    "    plt.show()\n",
    "    \n",
    "    results_l2 = model_l2.evaluate(x_test, y_test, verbose = 0)\n",
    "    results_l2"
   ]
  },
  {
   "cell_type": "markdown",
   "metadata": {},
   "source": [
    "Dropout"
   ]
  },
  {
   "cell_type": "code",
   "execution_count": 21,
   "metadata": {},
   "outputs": [
    {
     "name": "stdout",
     "output_type": "stream",
     "text": [
      "Epoch 1/10\n",
      "40/40 [==============================] - 8s 182ms/step - loss: 2.5021 - acc: 0.1726 - val_loss: 2.3347 - val_acc: 0.2242\n",
      "Epoch 2/10\n",
      "40/40 [==============================] - 2s 52ms/step - loss: 2.3207 - acc: 0.2019 - val_loss: 2.2194 - val_acc: 0.2650\n",
      "Epoch 3/10\n",
      "40/40 [==============================] - 2s 49ms/step - loss: 2.2390 - acc: 0.2208 - val_loss: 2.1595 - val_acc: 0.2758\n",
      "Epoch 4/10\n",
      "40/40 [==============================] - 2s 53ms/step - loss: 2.1765 - acc: 0.2387 - val_loss: 2.1236 - val_acc: 0.2859\n",
      "Epoch 5/10\n",
      "40/40 [==============================] - 2s 51ms/step - loss: 2.1058 - acc: 0.2647 - val_loss: 2.0801 - val_acc: 0.2873\n",
      "Epoch 6/10\n",
      "40/40 [==============================] - 2s 51ms/step - loss: 2.0451 - acc: 0.2863 - val_loss: 2.0494 - val_acc: 0.3079\n",
      "Epoch 7/10\n",
      "40/40 [==============================] - 2s 50ms/step - loss: 1.9909 - acc: 0.3163 - val_loss: 2.0216 - val_acc: 0.3207\n",
      "Epoch 8/10\n",
      "40/40 [==============================] - 2s 50ms/step - loss: 1.9338 - acc: 0.3410 - val_loss: 2.0022 - val_acc: 0.3257\n",
      "Epoch 9/10\n",
      "40/40 [==============================] - 2s 53ms/step - loss: 1.8915 - acc: 0.3618 - val_loss: 1.9875 - val_acc: 0.3280\n",
      "Epoch 10/10\n",
      "40/40 [==============================] - 2s 62ms/step - loss: 1.8276 - acc: 0.3819 - val_loss: 1.9767 - val_acc: 0.3359\n"
     ]
    },
    {
     "data": {
      "image/png": "[encoded data removed]",
      "text/plain": [
       "<Figure size 640x480 with 1 Axes>"
      ]
     },
     "metadata": {},
     "output_type": "display_data"
    }
   ],
   "source": [
    "if chosen_model == 5:   \n",
    "    hidden = 16\n",
    "    \n",
    "    model_dr = models.Sequential()\n",
    "    model_dr.add(layers.Dense(hidden, activation='relu', input_shape=(m3    ,)))\n",
    "    model_dr.add(layers.Dropout(0.5))\n",
    "    model_dr.add(layers.Dense(hidden, activation='relu'))\n",
    "    model_dr.add(layers.Dropout(0.5))\n",
    "    model_dr.add(layers.Dense(14, activation='softmax'))\n",
    "    \n",
    "    model_dr.compile(optimizer='rmsprop',\n",
    "                  loss='categorical_crossentropy',\n",
    "                  metrics=['acc'])\n",
    "    \n",
    "    history_dr = model_dr.fit(partial_x_train,\n",
    "                        partial_y_train,\n",
    "                        epochs=10,\n",
    "                        batch_size=512,\n",
    "                        validation_data=(x_val, y_val))\n",
    "    \n",
    "    history_dr_dict = history_dr.history\n",
    "    loss_values_dr = history_dr_dict['loss'] \n",
    "    val_loss_values_dr = history_dr_dict['val_loss']\n",
    "    epochs = range(1, len(loss_values_dr) + 1)\n",
    "    \n",
    "    plt.plot(epochs, loss_values_dr, 'bo', label='Training loss')\n",
    "    plt.plot(epochs, val_loss_values_dr, 'b', label='Validation loss')\n",
    "    plt.title('Training and validation loss - dropout')\n",
    "    plt.xlabel('Epochs')\n",
    "    plt.ylabel('Loss')\n",
    "    plt.legend()\n",
    "    plt.show()\n",
    "    \n",
    "    results_dr = model_dr.evaluate(x_test, y_test, verbose = 0)\n",
    "    results_dr"
   ]
  },
  {
   "cell_type": "markdown",
   "metadata": {},
   "source": [
    "Early Stopping"
   ]
  },
  {
   "cell_type": "code",
   "execution_count": null,
   "metadata": {},
   "outputs": [],
   "source": [
    "if chosen_model == 6:\n",
    "    hidden = 128\n",
    "    \n",
    "    model = models.Sequential()\n",
    "    model.add(layers.Dense(hidden, activation='relu', input_shape=(m3,)))\n",
    "    model.add(layers.Dense(hidden, activation='relu'))\n",
    "    model.add(layers.Dense(14, activation='softmax'))\n",
    "    \n",
    "    model.compile(optimizer='rmsprop',\n",
    "                  loss='categorical_crossentropy',\n",
    "                  metrics=['acc'])\n",
    "    \n",
    "    early = EarlyStopping(monitor='val_loss', min_delta=0, patience= 5, verbose= True, mode='auto')\n",
    "    \n",
    "    callbacks = [early]\n",
    "    history_es = model.fit(partial_x_train,\n",
    "                        partial_y_train,\n",
    "                        epochs=20,\n",
    "                        batch_size=512,\n",
    "                        validation_data=(x_val, y_val),\n",
    "                        callbacks = callbacks)\n",
    "    \n",
    "    history_dict_es = history_es.history\n",
    "    loss_values_es = history_dict_es['loss'] \n",
    "    val_loss_values_es = history_dict_es['val_loss']\n",
    "    epochs = range(1, len(loss_values_es) + 1)\n",
    "    \n",
    "    plt.plot(epochs, loss_values_es, 'bo', label='Training loss')\n",
    "    plt.plot(epochs, val_loss_values_es, 'b', label='Validation loss')\n",
    "    plt.title('Training and validation loss (early stopping)')\n",
    "    plt.xlabel('Epochs')\n",
    "    plt.ylabel('Loss')\n",
    "    plt.legend()\n",
    "    plt.show()\n",
    "    \n",
    "    results_es = model.evaluate(x_test, y_test, verbose = 0)\n",
    "    results_es"
   ]
  },
  {
   "cell_type": "code",
   "execution_count": null,
   "metadata": {},
   "outputs": [],
   "source": []
  }
 ],
 "metadata": {
  "colab": {
   "name": "ex_imdb_dnn_regul",
   "provenance": []
  },
  "kernelspec": {
   "display_name": "Python 3 (ipykernel)",
   "language": "python",
   "name": "python3"
  },
  "language_info": {
   "codemirror_mode": {
    "name": "ipython",
    "version": 3
   },
   "file_extension": ".py",
   "mimetype": "text/x-python",
   "name": "python",
   "nbconvert_exporter": "python",
   "pygments_lexer": "ipython3",
   "version": "3.10.6"
  }
 },
 "nbformat": 4,
 "nbformat_minor": 4
}

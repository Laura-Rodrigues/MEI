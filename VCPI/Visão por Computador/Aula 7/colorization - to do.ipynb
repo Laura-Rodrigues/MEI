{
 "cells": [
  {
   "attachments": {},
   "cell_type": "markdown",
   "metadata": {},
   "source": [
    "# Autoencoders - Colorization\n",
    "\n",
    "This notebook shows autoencoders for colorization of black and white images. The flowers data is used to ilustrate the concept.\n",
    "\n",
    "The images are initially converted to Lab color space. The input is the L channel, and the target are the (a,b) channels.\n",
    "\n",
    "Transfer learning is used for the encoder. A VGG16 with imagenet weights is used as the base model for the encoder.\n",
    "\n",
    "- dataset: https://www.tensorflow.org/datasets/catalog/tf_flowers"
   ]
  },
  {
   "cell_type": "code",
   "execution_count": null,
   "metadata": {},
   "outputs": [],
   "source": [
    "import tensorflow as tf\n",
    "from tensorflow.keras import layers, models, optimizers, metrics\n",
    "from tensorflow.keras.callbacks import ModelCheckpoint, EarlyStopping,TensorBoard, ReduceLROnPlateau\n",
    "from tensorflow.keras.optimizers import Adam\n",
    "import numpy as np\n",
    "\n",
    "import os\n",
    "import pathlib\n",
    "import matplotlib.pyplot as plt\n",
    "\n",
    "# to display confusion matrix\n",
    "import seaborn as sn\n",
    "import pandas as pd\n",
    "\n",
    "import cv2"
   ]
  },
  {
   "attachments": {},
   "cell_type": "markdown",
   "metadata": {},
   "source": [
    "## Auxiliary functions "
   ]
  },
  {
   "cell_type": "code",
   "execution_count": null,
   "metadata": {},
   "outputs": [],
   "source": [
    "def show_sample():\n",
    "    columns = 5\n",
    "    rows = 5\n",
    "    plt.figure(figsize=(20, 20))\n",
    "    n = 1\n",
    "    for d in os.listdir(data):\n",
    "        fs = os.listdir(f'{data}{d}')\n",
    "        for f in fs[:5]:\n",
    "            img = cv2.imread(f'{data}{d}/{f}')\n",
    "            img = cv2.cvtColor(img, cv2.COLOR_BGR2RGB)        \n",
    "            ax = plt.subplot(rows, columns, n)\n",
    "            plt.imshow((img))\n",
    "            plt.axis('off')\n",
    "            n += 1\n",
    "        \n",
    "        \n",
    "def showLAB(filename):\n",
    "    \n",
    "    img = cv2.imread(filename)\n",
    "    img = cv2.resize(img, (WIDTH,HEIGHT))\n",
    "    LAB = cv2.cvtColor(img, cv2.COLOR_BGR2LAB)\n",
    "    \n",
    "    plt.figure(figsize=(15, 60))\n",
    "    ax = plt.subplot(1,4,1)\n",
    "    plt.imshow(cv2.cvtColor(img, cv2.COLOR_BGR2RGB))\n",
    "    plt.title(\"RGB\");\n",
    "    ax = plt.subplot(1,4,2)\n",
    "    plt.title(\"L\");\n",
    "    plt.imshow(LAB[:,:,0], cmap='gray')\n",
    "    ax = plt.subplot(1,4,3)\n",
    "    plt.title(\"a\");\n",
    "    plt.imshow(LAB[:,:,1], cmap='gray')\n",
    "    ax = plt.subplot(1,4,4)\n",
    "    plt.title(\"b\");\n",
    "    plt.imshow(LAB[:,:,2], cmap='gray')\n",
    "   \n",
    "        \n",
    "def eval_images(filenames):\n",
    "    \n",
    "    k = len(filenames)\n",
    "    rows = k\n",
    "    cols = 3\n",
    "    print(rows,cols)\n",
    "    f, axes= plt.subplots(rows,cols,figsize=(4 * cols,4 * rows))\n",
    "    fig=plt.figure()\n",
    "    for a in range (len(filenames)):\n",
    "        img = cv2.imread(filenames[a])\n",
    "        img = cv2.resize(img, (WIDTH,HEIGHT))\n",
    "        LAB = cv2.cvtColor(img, cv2.COLOR_BGR2LAB)\n",
    "\n",
    "        x = LAB[:,:,0] \n",
    "        x = x.reshape((WIDTH, HEIGHT, 1))\n",
    "        x = np.concatenate((x,)*3, axis=-1)\n",
    "        xx = tf.keras.applications.vgg16.preprocess_input(x)\n",
    "\n",
    "        ab = model.predict(xx.reshape(1,WIDTH,HEIGHT,3))\n",
    "\n",
    "        cur = np.zeros((192, 192, 3))\n",
    "        cur[:,:,0] = x[:,:,0] / 255.0\n",
    "        cur[:,:,1:] = ab \n",
    "        cur = np.clip((cur * 255).astype(np.ubyte), 0, 255)\n",
    "\n",
    "        rgb = cv2.cvtColor(cur, cv2.COLOR_Lab2RGB)\n",
    "        \n",
    "        subplot_title=\"original\"\n",
    "        axes.ravel()[3*a].set_title(subplot_title)  \n",
    "        axes.ravel()[3*a].imshow(cv2.cvtColor(img, cv2.COLOR_BGR2RGB))\n",
    "        subplot_title=\"bw input\"\n",
    "        axes.ravel()[3*a+1].set_title(subplot_title)  \n",
    "        axes.ravel()[3*a+1].imshow(x)\n",
    "        subplot_title=\"output\"\n",
    "        axes.ravel()[3*a+2].set_title(subplot_title)  \n",
    "        axes.ravel()[3*a+2].imshow(rgb)\n",
    "    fig.tight_layout()    \n",
    "    plt.show()\n",
    "    \n",
    "    "
   ]
  },
  {
   "cell_type": "code",
   "execution_count": null,
   "metadata": {},
   "outputs": [],
   "source": [
    "def prepare_callbacks(file_path):\n",
    "\n",
    "    checkpointer = ModelCheckpoint(filepath= file_path, \n",
    "                               monitor = 'val_loss',\n",
    "                               verbose=1, \n",
    "                               save_best_only = True)\n",
    "\n",
    "\n",
    "    earlyStopper = EarlyStopping(monitor='val_loss',  \n",
    "        min_delta = 0.00001, patience = 20, verbose = 1)\n",
    "\n",
    "    reduceLR = ReduceLROnPlateau(monitor='val_loss', \n",
    "         factor=0.5, patience=5, min_lr=0.0000001, verbose = 1)\n",
    "\n",
    "    return [checkpointer, earlyStopper, reduceLR]\n",
    "    "
   ]
  },
  {
   "attachments": {},
   "cell_type": "markdown",
   "metadata": {},
   "source": [
    "## Configuration"
   ]
  },
  {
   "cell_type": "code",
   "execution_count": null,
   "metadata": {},
   "outputs": [],
   "source": [
    "HEIGHT = 192\n",
    "WIDTH = 192\n",
    "NUM_CHANNELS = 3\n",
    "BATCH_SIZE = 32"
   ]
  },
  {
   "cell_type": "code",
   "execution_count": null,
   "metadata": {},
   "outputs": [],
   "source": [
    "data_test = 'D:/deepLearning/datasets/flowers/test_ARF/'\n",
    "data = 'D:/deepLearning/datasets/flowers/train/'\n",
    "model_prefix = 'd:/vcpi/DL07/flowers/'\n",
    "\n",
    "train_online = False"
   ]
  }
 ],
 "metadata": {
  "kernelspec": {
   "display_name": "Python 3",
   "language": "python",
   "name": "python3"
  },
  "language_info": {
   "codemirror_mode": {
    "name": "ipython",
    "version": 3
   },
   "file_extension": ".py",
   "mimetype": "text/x-python",
   "name": "python",
   "nbconvert_exporter": "python",
   "pygments_lexer": "ipython3",
   "version": "3.7.4"
  }
 },
 "nbformat": 4,
 "nbformat_minor": 4
}

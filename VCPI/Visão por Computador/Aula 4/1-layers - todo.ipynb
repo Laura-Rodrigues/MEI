{
 "cells": [
  {
   "cell_type": "markdown",
   "metadata": {},
   "source": [
    "# Layers\n",
    "\n",
    "This notebook introduces a set of layers commonly found in CNNs:\n",
    "\n",
    "- Batch Normalization\n",
    "- Dropout\n",
    "- Pooling\n",
    "\n",
    "\n",
    "\n",
    "## References\n",
    "\n",
    "### Batch Normalization\n",
    "- Original paper: Batch Normalization: Accelerating Deep Network Training by Reducing Internal Covariate Shift\n",
    "Sergey Ioffe, Christian Szegedy\n",
    "https://arxiv.org/abs/1502.03167\n",
    "\n",
    "- Video [Why does Batch Norm work?](https://www.youtube.com/watch?v=nUUqwaxLnWs) Andrew Ng\n",
    "\n",
    "- Tensorflow: \n",
    "tf.keras.layers.BatchNormalization\n",
    "https://www.tensorflow.org/api_docs/python/tf/keras/layers/BatchNormalization\n",
    "\n",
    "- [A Gentle Introduction to Batch Normalization for Deep Neural Networks](https://machinelearningmastery.com/batch-normalization-for-training-of-deep-neural-networks/)\n",
    "\n",
    "### Dropout\n",
    "- Original paper: Improving neural networks by preventing co-adaptation of feature detectors (2012)\n",
    "G. E. Hinton∗ , N. Srivastava, A. Krizhevsky, I. Sutskever and R. R. Salakhutdinov\n",
    "https://arxiv.org/pdf/1207.0580.pdf\n",
    "\n",
    "- More evaluation: Dropout: A Simple Way to Prevent Neural Networks from Overfitting (2014)\n",
    "Nitish Srivastava, Geoffrey Hinton, Alex Krizhevsky, Ilya Sutskever, Ruslan Salakhutdinov\n",
    "https://jmlr.org/papers/v15/srivastava14a.html\n",
    "\n",
    "- A Gentler Article: A Gentle Introduction to Dropout for Regularizing Deep Neural Networks (2018)\n",
    "Jason Brownlee\n",
    "https://machinelearningmastery.com/dropout-for-regularizing-deep-neural-networks/\n",
    "\n",
    "- Another Gentle Article: Understanding And Implementing Dropout In TensorFlow And Keras\n",
    "Richmond Alake\n",
    "https://towardsdatascience.com/understanding-and-implementing-dropout-in-tensorflow-and-keras-a8a3a02c1bfa\n",
    "\n",
    "\n",
    "### Pooling\n",
    "\n",
    "- Evaluation of Pooling Operations in Convolutional Architectures for Object Recognition\n",
    "Dominik Scherer, Andreas Muller, and Sven Behnke\n",
    "http://ais.uni-bonn.de/papers/icann2010_maxpool.pdf\n",
    "\n",
    "- An alernative to pooling: Striving for Simplicity: The All Convolutional Net, Jost Tobias Springenberg, Alexey Dosovitskiy, Thomas Brox, Martin Riedmiller, https://arxiv.org/abs/1412.6806\n",
    "\n",
    "- [A Gentle Introduction to Pooling Layers for Convolutional Neural Networks](https://machinelearningmastery.com/pooling-layers-for-convolutional-neural-networks/)\n",
    "\n",
    "\n",
    "### General\n",
    "\n",
    "https://www.tensorflow.org/tutorials/load_data/images\n",
    "\n",
    "https://www.tensorflow.org/api_docs/python/tf/data/Dataset\n",
    "\n",
    "https://www.youtube.com/watch?v=yH1cF7GnoIo    \n",
    "\n",
    "https://www.datacamp.com/community/tutorials/tensorflow-tutorial    \n",
    "\n"
   ]
  },
  {
   "cell_type": "code",
   "execution_count": 1,
   "metadata": {
    "tags": []
   },
   "outputs": [
    {
     "name": "stderr",
     "output_type": "stream",
     "text": [
      "2023-04-21 11:24:02.681532: I tensorflow/core/platform/cpu_feature_guard.cc:193] This TensorFlow binary is optimized with oneAPI Deep Neural Network Library (oneDNN) to use the following CPU instructions in performance-critical operations:  AVX2 AVX512F AVX512_VNNI FMA\n",
      "To enable them in other operations, rebuild TensorFlow with the appropriate compiler flags.\n",
      "2023-04-21 11:24:02.806692: I tensorflow/core/util/port.cc:104] oneDNN custom operations are on. You may see slightly different numerical results due to floating-point round-off errors from different computation orders. To turn them off, set the environment variable `TF_ENABLE_ONEDNN_OPTS=0`.\n",
      "2023-04-21 11:24:02.809151: W tensorflow/compiler/xla/stream_executor/platform/default/dso_loader.cc:64] Could not load dynamic library 'libcudart.so.11.0'; dlerror: libcudart.so.11.0: cannot open shared object file: No such file or directory; LD_LIBRARY_PATH: /usr/local/cuda/lib64:\n",
      "2023-04-21 11:24:02.809161: I tensorflow/compiler/xla/stream_executor/cuda/cudart_stub.cc:29] Ignore above cudart dlerror if you do not have a GPU set up on your machine.\n",
      "2023-04-21 11:24:03.273955: W tensorflow/compiler/xla/stream_executor/platform/default/dso_loader.cc:64] Could not load dynamic library 'libnvinfer.so.7'; dlerror: libnvinfer.so.7: cannot open shared object file: No such file or directory; LD_LIBRARY_PATH: /usr/local/cuda/lib64:\n",
      "2023-04-21 11:24:03.274007: W tensorflow/compiler/xla/stream_executor/platform/default/dso_loader.cc:64] Could not load dynamic library 'libnvinfer_plugin.so.7'; dlerror: libnvinfer_plugin.so.7: cannot open shared object file: No such file or directory; LD_LIBRARY_PATH: /usr/local/cuda/lib64:\n",
      "2023-04-21 11:24:03.274011: W tensorflow/compiler/tf2tensorrt/utils/py_utils.cc:38] TF-TRT Warning: Cannot dlopen some TensorRT libraries. If you would like to use Nvidia GPU with TensorRT, please make sure the missing libraries mentioned above are installed properly.\n"
     ]
    }
   ],
   "source": [
    "import tensorflow as tf\n",
    "\n",
    "from tensorflow import keras\n",
    "from tensorflow.keras.models import Sequential, model_from_json\n",
    "from tensorflow.keras.optimizers import SGD, Adam\n",
    "from tensorflow.keras.callbacks import LearningRateScheduler, ModelCheckpoint,TensorBoard, EarlyStopping\n",
    "from tensorflow.keras.layers import LeakyReLU, BatchNormalization, Conv2D, MaxPooling2D, \\\n",
    "            Dense, Activation, Flatten, Dropout, Input\n",
    "\n",
    "import os\n",
    "import pathlib\n",
    "import numpy as np\n",
    "import matplotlib.pyplot as plt\n",
    "\n",
    "from PIL import Image\n",
    "import IPython.display as display\n",
    "\n",
    "import seaborn as sn\n",
    "import pandas as pd\n",
    "\n",
    "BATCH_SIZE = 32\n",
    "IMAGE_SIZE = 32"
   ]
  },
  {
   "cell_type": "markdown",
   "metadata": {},
   "source": [
    "### Auxiliary functions for display purposes only"
   ]
  },
  {
   "cell_type": "code",
   "execution_count": 2,
   "metadata": {},
   "outputs": [],
   "source": [
    "def show_batch(cols, image_batch, label_batch):\n",
    "\n",
    "    rows = int(BATCH_SIZE / cols) \n",
    "    if rows * cols < BATCH_SIZE:\n",
    "        rows += 1\n",
    "    width = 3 * rows\n",
    "    height = 3 * cols\n",
    "    \n",
    "    \n",
    "    f, axes= plt.subplots(rows,cols,figsize=(height,width))\n",
    "    fig=plt.figure()\n",
    "    for n in range(BATCH_SIZE):\n",
    "        \n",
    "        subplot_title=(\"class \"+ classNames[label_batch[n]==1][0])\n",
    "        axes.ravel()[n].set_title(subplot_title)  \n",
    "        axes.ravel()[n].imshow(image_batch[n])\n",
    "        axes.ravel()[n].axis('off')\n",
    "\n",
    "    fig.tight_layout()    \n",
    "    plt.show()\n",
    "    \n",
    "    \n",
    "def show_history(history):\n",
    "    print(history.history.keys())\n",
    "\n",
    "    # summarize history for accuracy\n",
    "    plt.plot(history.history['accuracy'])\n",
    "    plt.plot(history.history['val_accuracy'])\n",
    "    plt.title('model accuracy')\n",
    "    plt.ylabel('accuracy')\n",
    "    plt.xlabel('epoch')\n",
    "    plt.legend(['train', 'val'], loc='lower right')\n",
    "    plt.show()\n",
    "    # summarize history for loss\n",
    "    plt.plot(history.history['loss'])\n",
    "    plt.plot(history.history['val_loss'])\n",
    "    plt.title('model loss')\n",
    "    plt.ylabel('loss')\n",
    "    plt.xlabel('epoch')\n",
    "    plt.legend(['train', 'val'], loc='upper right')\n",
    "    plt.show()    \n",
    "    \n",
    "    \n",
    "def show_accuracies(): \n",
    "    fig, ax = plt.subplots()\n",
    "    X = np.arange(2)\n",
    "\n",
    "    models = ['simple', 'new layers']\n",
    "    plt.bar(X, [evalV1[1], evalV2[1]], width = 0.4, color = 'b', label='test')\n",
    "    plt.bar(X + 0.4, [valV1[1], valV2[1]], color = 'r', width = 0.4, label = \"val\")\n",
    "    plt.xticks(X + 0.4 / 2, models)\n",
    "    plt.ylim(top = 1.0, bottom = 0.70)\n",
    "    plt.legend(loc='upper left')\n",
    "    plt.show()\n",
    "\n",
    "\n",
    "def show_data(s1,l1, s2,l2, labels):\n",
    "    fig, ax = plt.subplots()\n",
    "    X = np.arange(len(s1))\n",
    "\n",
    "    models = labels\n",
    "    plt.bar(X, s1, width = 0.4, color = 'b', label=l1)\n",
    "    plt.bar(X + 0.4, s2, color = 'r', width = 0.4, label = l2)\n",
    "    plt.xticks(X + 0.4 / 2, models)\n",
    "    plt.ylim(top = 1-00, bottom = 0.70)\n",
    "    plt.legend(loc='upper left')\n",
    "    plt.show()\n",
    "\n",
    "\n",
    "    \n",
    "def show_misclassified(predictions, ground_truth, images, num_rows= 5, num_cols=3):\n",
    "    \n",
    "    # Plot the first X test images with wrong predictions.\n",
    "    num_images = num_rows*num_cols\n",
    "    plt.figure(figsize=(2*2*num_cols, 2*num_rows))\n",
    "    i = 0\n",
    "    k = 0\n",
    "    while k < len(images) and i < num_images:\n",
    "        predicted_label = np.argmax(predictions[k])\n",
    "        gt = np.where(ground_truth[k])[0][0]\n",
    "        if predicted_label != gt:\n",
    "            plt.subplot(num_rows, 2*num_cols, 2*i+1)\n",
    "            plot_image(k, predictions[k], gt, images)\n",
    "            plt.subplot(num_rows, 2*num_cols, 2*i+2)\n",
    "            plot_value_array(k, predictions[k], ground_truth)\n",
    "            i += 1\n",
    "        k += 1\n",
    "    plt.tight_layout()\n",
    "    plt.show()\n",
    "\n",
    "\n",
    "def plot_image(i, predictions_array, true_label, img):\n",
    "  predictions_array, true_label, img = predictions_array, true_label, img[i]\n",
    "  plt.grid(False)\n",
    "  plt.xticks([])\n",
    "  plt.yticks([])\n",
    "\n",
    "  plt.imshow(img, cmap=plt.cm.binary)\n",
    "\n",
    "  predicted_label = np.argmax(predictions_array)\n",
    "  if predicted_label == true_label:\n",
    "    color = 'blue'\n",
    "  else:\n",
    "    color = 'red'\n",
    "\n",
    "  plt.xlabel(\"{} {:2.0f}% ({})\".format(classNames[predicted_label],\n",
    "                                100*np.max(predictions_array),\n",
    "                                classNames[true_label]),\n",
    "                                color=color)\n",
    "\n",
    "def plot_value_array(i, predictions_array, true_label):\n",
    "  predictions_array, true_label = predictions_array, true_label[i]\n",
    "  plt.grid(False)\n",
    "  plt.xticks(range(8))\n",
    "  plt.yticks([])\n",
    "  thisplot = plt.bar(range(8), predictions_array, color=\"#777777\")\n",
    "  plt.ylim([0, 1])\n",
    "  predicted_label = np.argmax(predictions_array)\n",
    "\n",
    "  thisplot[predicted_label].set_color('red')\n",
    "  thisplot[np.where(true_label)[0][0]].set_color('blue')    \n",
    "\n",
    "def plot_predictions(predictions, ground_truth, images, num_rows= 5, num_cols=3 ):\n",
    "\n",
    "    num_images = num_rows*num_cols\n",
    "    plt.figure(figsize=(2*2*num_cols, 2*num_rows))\n",
    "    for i in range(min(num_images,len(images))):\n",
    "        gt = np.where(ground_truth[i])[0][0]\n",
    "        plt.subplot(num_rows, 2*num_cols, 2*i+1)\n",
    "        plot_image(i, predictions[i], gt, images)\n",
    "        plt.subplot(num_rows, 2*num_cols, 2*i+2)\n",
    "        plot_value_array(i, predictions[i], ground_truth)\n",
    "    plt.tight_layout()\n",
    "    plt.show()\n",
    "    \n",
    "\n",
    "def show_confusion_matrix(model, dataset):\n",
    "   \n",
    "    all_labels = []\n",
    "    all_preds = []\n",
    "\n",
    "    for images , labels in dataset.take(-1):  \n",
    "        numpy_labels = labels.numpy()\n",
    "        numpy_images = images.numpy()\n",
    "        preds = model.predict(numpy_images, verbose=0)  \n",
    "        \n",
    "        all_labels += [np.argmax(x) for x in numpy_labels]\n",
    "        all_preds += [np.argmax(x) for x in preds]\n",
    "        \n",
    "    conf_mat = tf.math.confusion_matrix(all_labels, all_preds)\n",
    "\n",
    "    df_cm = pd.DataFrame(conf_mat.numpy(), range(8), range(8))\n",
    "    plt.figure(figsize=(15,10))\n",
    "    sn.set(font_scale=1.4) # for label size\n",
    "    sn.heatmap(df_cm, annot=True, annot_kws={\"size\": 16}, fmt='d') # font size\n",
    "\n",
    "    plt.show()\n",
    "\n",
    "    res_correct = {0:0, 1:0, 2:0, 3:0,4:0,5:0,6:0,7:0}\n",
    "    res_incorrect = {0:0, 1:0, 2:0, 3:0,4:0,5:0,6:0,7:0}\n",
    "    for i in range(len(all_preds)):\n",
    "        if all_preds[i] == all_labels[i]:\n",
    "            res_correct[all_labels[i]] += 1\n",
    "        else:\n",
    "            res_incorrect[all_labels[i]] += 1\n",
    "\n",
    "    for i in range(len(res_correct)):\n",
    "\n",
    "        print('class: ', i, ' total images: ', res_correct[i] + res_incorrect[i],' % correct: ', res_correct[i] / (res_correct[i] + res_incorrect[i]))"
   ]
  },
  {
   "cell_type": "markdown",
   "metadata": {},
   "source": [
    "### Auxiliary functions to load images"
   ]
  },
  {
   "cell_type": "code",
   "execution_count": 3,
   "metadata": {},
   "outputs": [],
   "source": [
    "classNames = np.array(['00000','00001', '00002', '00003', '00004', '00005', '00006', '00007'])\n",
    "\n",
    "def get_label(file_path):\n",
    "  # convert the path to a list of path components\n",
    "  parts = tf.strings.split(file_path, os.path.sep)\n",
    "  # The second to last is the class-directory\n",
    "  return parts[-2] == classNames\n",
    "\n",
    "def decode_img(img):\n",
    "  # convert the compressed string to a 3D uint8 tensor\n",
    "  img = tf.image.decode_png(img, channels=3)\n",
    "  # Use `convert_image_dtype` to convert to floats in the [0,1] range.\n",
    "  img = tf.image.convert_image_dtype(img, tf.float32)\n",
    "  # resize the image to the desired size.\n",
    "  return tf.image.resize(img, [32,32])\n",
    "\n",
    "def get_bytes_and_label(file_path):\n",
    "  label = get_label(file_path)\n",
    "  # load the raw data from the file as a string\n",
    "  img = tf.io.read_file(file_path)\n",
    "  img = decode_img(img)\n",
    "  return img, label"
   ]
  },
  {
   "cell_type": "markdown",
   "metadata": {},
   "source": [
    "## Local Settings\n",
    "\n",
    "set the paths to the image data and where the model and logs will be saved."
   ]
  },
  {
   "cell_type": "code",
   "execution_count": 4,
   "metadata": {},
   "outputs": [],
   "source": [
    "data_path = 'gtsrb'\n",
    "log_and_model_path = 'gtsrb'"
   ]
  },
  {
   "cell_type": "markdown",
   "metadata": {},
   "source": [
    "### Load images"
   ]
  },
  {
   "cell_type": "code",
   "execution_count": 5,
   "metadata": {},
   "outputs": [
    {
     "name": "stderr",
     "output_type": "stream",
     "text": [
      "2023-04-21 11:24:04.207474: I tensorflow/compiler/xla/stream_executor/cuda/cuda_gpu_executor.cc:981] successful NUMA node read from SysFS had negative value (-1), but there must be at least one NUMA node, so returning NUMA node zero\n",
      "2023-04-21 11:24:04.207762: W tensorflow/compiler/xla/stream_executor/platform/default/dso_loader.cc:64] Could not load dynamic library 'libcudart.so.11.0'; dlerror: libcudart.so.11.0: cannot open shared object file: No such file or directory; LD_LIBRARY_PATH: /usr/local/cuda/lib64:\n",
      "2023-04-21 11:24:04.207811: W tensorflow/compiler/xla/stream_executor/platform/default/dso_loader.cc:64] Could not load dynamic library 'libcublas.so.11'; dlerror: libcublas.so.11: cannot open shared object file: No such file or directory; LD_LIBRARY_PATH: /usr/local/cuda/lib64:\n",
      "2023-04-21 11:24:04.207847: W tensorflow/compiler/xla/stream_executor/platform/default/dso_loader.cc:64] Could not load dynamic library 'libcublasLt.so.11'; dlerror: libcublasLt.so.11: cannot open shared object file: No such file or directory; LD_LIBRARY_PATH: /usr/local/cuda/lib64:\n",
      "2023-04-21 11:24:04.207885: W tensorflow/compiler/xla/stream_executor/platform/default/dso_loader.cc:64] Could not load dynamic library 'libcufft.so.10'; dlerror: libcufft.so.10: cannot open shared object file: No such file or directory; LD_LIBRARY_PATH: /usr/local/cuda/lib64:\n",
      "2023-04-21 11:24:04.225560: W tensorflow/compiler/xla/stream_executor/platform/default/dso_loader.cc:64] Could not load dynamic library 'libcusparse.so.11'; dlerror: libcusparse.so.11: cannot open shared object file: No such file or directory; LD_LIBRARY_PATH: /usr/local/cuda/lib64:\n",
      "2023-04-21 11:24:04.225653: W tensorflow/core/common_runtime/gpu/gpu_device.cc:1934] Cannot dlopen some GPU libraries. Please make sure the missing libraries mentioned above are installed properly if you would like to use GPU. Follow the guide at https://www.tensorflow.org/install/gpu for how to download and setup the required libraries for your platform.\n",
      "Skipping registering GPU devices...\n",
      "2023-04-21 11:24:04.226137: I tensorflow/core/platform/cpu_feature_guard.cc:193] This TensorFlow binary is optimized with oneAPI Deep Neural Network Library (oneDNN) to use the following CPU instructions in performance-critical operations:  AVX2 AVX512F AVX512_VNNI FMA\n",
      "To enable them in other operations, rebuild TensorFlow with the appropriate compiler flags.\n"
     ]
    }
   ],
   "source": [
    "AUTOTUNE = tf.data.experimental.AUTOTUNE\n",
    "\n",
    "train_listset = tf.data.Dataset.list_files(f'{data_path}/train/*/*.png')\n",
    "train_set = train_listset.map(get_bytes_and_label, num_parallel_calls = AUTOTUNE)\n",
    "\n",
    "val_listset = tf.data.Dataset.list_files(f'{data_path}/val/*/*.png')\n",
    "val_set = val_listset.map(get_bytes_and_label, num_parallel_calls = AUTOTUNE)\n",
    "\n",
    "test_listset = tf.data.Dataset.list_files(f'{data_path}/test/*/*.png')\n",
    "test_set = test_listset.map(get_bytes_and_label, num_parallel_calls = AUTOTUNE)"
   ]
  },
  {
   "cell_type": "markdown",
   "metadata": {},
   "source": [
    "### Print some data and compute dataset length"
   ]
  },
  {
   "cell_type": "code",
   "execution_count": 6,
   "metadata": {},
   "outputs": [
    {
     "name": "stdout",
     "output_type": "stream",
     "text": [
      "Image shape:  (32, 32, 3)\n",
      "Label:  [False False False False  True False False False]\n",
      "10200\n"
     ]
    }
   ],
   "source": [
    "for image, label in train_set.take(1):\n",
    "  print(\"Image shape: \", image.numpy().shape)\n",
    "  print(\"Label: \", label.numpy())\n",
    "\n",
    "dataset_length = train_set.cardinality().numpy()\n",
    "print(dataset_length)\n"
   ]
  },
  {
   "cell_type": "markdown",
   "metadata": {},
   "source": [
    "### Prepare the dataset"
   ]
  },
  {
   "cell_type": "code",
   "execution_count": 7,
   "metadata": {},
   "outputs": [],
   "source": [
    "train_set = train_set.cache()\n",
    "train_set = train_set.shuffle(buffer_size=10200)\n",
    "train_set = train_set.batch(batch_size = BATCH_SIZE)\n",
    "train_set = train_set.prefetch(buffer_size = AUTOTUNE)\n",
    "\n",
    "val_set = val_set.cache()\n",
    "val_set = val_set.batch(batch_size = BATCH_SIZE)\n",
    "val_set = val_set.prefetch(buffer_size = AUTOTUNE)\n"
   ]
  },
  {
   "cell_type": "markdown",
   "metadata": {},
   "source": [
    "### Prepare the test set"
   ]
  },
  {
   "cell_type": "code",
   "execution_count": 8,
   "metadata": {},
   "outputs": [
    {
     "name": "stdout",
     "output_type": "stream",
     "text": [
      "Number of batches:  131\n"
     ]
    }
   ],
   "source": [
    "test_set = test_set.batch(batch_size = BATCH_SIZE)\n",
    "\n",
    "testset_length = test_set.cardinality().numpy()\n",
    "print('Number of batches: ', testset_length)\n"
   ]
  },
  {
   "cell_type": "markdown",
   "metadata": {},
   "source": [
    "## Model I - plain (only Conv layers)"
   ]
  },
  {
   "cell_type": "markdown",
   "metadata": {},
   "source": [
    "### Definition"
   ]
  },
  {
   "cell_type": "code",
   "execution_count": 9,
   "metadata": {},
   "outputs": [],
   "source": [
    "def model_I(classCount, imgSize, channels):\n",
    "    model = Sequential()\n",
    "    \n",
    "    model.add(Input(shape=(imgSize, imgSize, channels)))\n",
    "    model.add(Conv2D(64, (5, 5)))         \n",
    "    model.add(LeakyReLU(alpha=0.01))     \n",
    "                                \n",
    "    model.add(Conv2D(64, (5, 5) )) \n",
    "    model.add(LeakyReLU(alpha=0.01))\n",
    "\n",
    "    model.add(Conv2D(64, (5, 5) ) )   \n",
    "    model.add(LeakyReLU(alpha=0.01))\n",
    "    \n",
    "    model.add(Flatten())\n",
    "    model.add(Dense(128))\n",
    "    model.add(LeakyReLU(alpha=0.01))             \n",
    "\n",
    "    model.add(Dense(classCount, activation='softmax'))\n",
    "\n",
    "    \n",
    "    opt = Adam(lr=0.0001)\n",
    "    model.compile(optimizer = opt, loss='categorical_crossentropy', metrics=[ 'accuracy'])\n",
    "    return model\n"
   ]
  },
  {
   "cell_type": "markdown",
   "metadata": {},
   "source": [
    "### Create the models and display stats"
   ]
  },
  {
   "cell_type": "code",
   "execution_count": 10,
   "metadata": {},
   "outputs": [
    {
     "name": "stderr",
     "output_type": "stream",
     "text": [
      "WARNING:absl:`lr` is deprecated, please use `learning_rate` instead, or use the legacy optimizer, e.g.,tf.keras.optimizers.legacy.Adam.\n"
     ]
    },
    {
     "name": "stdout",
     "output_type": "stream",
     "text": [
      "Model: \"sequential\"\n",
      "_________________________________________________________________\n",
      " Layer (type)                Output Shape              Param #   \n",
      "=================================================================\n",
      " conv2d (Conv2D)             (None, 28, 28, 64)        4864      \n",
      "                                                                 \n",
      " leaky_re_lu (LeakyReLU)     (None, 28, 28, 64)        0         \n",
      "                                                                 \n",
      " conv2d_1 (Conv2D)           (None, 24, 24, 64)        102464    \n",
      "                                                                 \n",
      " leaky_re_lu_1 (LeakyReLU)   (None, 24, 24, 64)        0         \n",
      "                                                                 \n",
      " conv2d_2 (Conv2D)           (None, 20, 20, 64)        102464    \n",
      "                                                                 \n",
      " leaky_re_lu_2 (LeakyReLU)   (None, 20, 20, 64)        0         \n",
      "                                                                 \n",
      " flatten (Flatten)           (None, 25600)             0         \n",
      "                                                                 \n",
      " dense (Dense)               (None, 128)               3276928   \n",
      "                                                                 \n",
      " leaky_re_lu_3 (LeakyReLU)   (None, 128)               0         \n",
      "                                                                 \n",
      " dense_1 (Dense)             (None, 8)                 1032      \n",
      "                                                                 \n",
      "=================================================================\n",
      "Total params: 3,487,752\n",
      "Trainable params: 3,487,752\n",
      "Non-trainable params: 0\n",
      "_________________________________________________________________\n",
      "None\n"
     ]
    }
   ],
   "source": [
    "modelV1 = model_I(8, 32, 3)\n",
    "\n",
    "print(modelV1.summary())"
   ]
  },
  {
   "cell_type": "markdown",
   "metadata": {},
   "source": [
    "### Callback definition\n",
    "\n",
    " - saving model weights at the best epoch considering validation accuracy\n",
    " - early stopping when validation accuracy no longer drops for a number of epochs\n",
    " - record session to be available on tensorboard.\n",
    "    \n",
    "Go to folder where logs are locatted and call >tensorboard --logdir logs\n",
    "\n",
    "then open a browser and go to:\n",
    "\n",
    "http://localhost:6006/    "
   ]
  },
  {
   "cell_type": "code",
   "execution_count": 11,
   "metadata": {},
   "outputs": [],
   "source": [
    "def prepareCallbacks(path):\n",
    "\n",
    "    file_path = f'{log_and_model_path}/{path}/cp.ckpt'\n",
    "\n",
    "    checkpointer = ModelCheckpoint(filepath= file_path, \n",
    "                                monitor = 'val_accuracy',\n",
    "                                verbose=1, \n",
    "                                save_weights_only=True,\n",
    "                                save_best_only=True)\n",
    "\n",
    "\n",
    "    earlyStopper = EarlyStopping(monitor='val_accuracy', min_delta = 0.0001, patience = 8, verbose = 1)\n",
    "\n",
    "    tbCallBack = TensorBoard(log_dir=f'{log_and_model_path}/{path}_log', histogram_freq=0, write_graph=True, write_images=True)\n",
    "\n",
    "    return file_path, [checkpointer, earlyStopper, tbCallBack]"
   ]
  },
  {
   "cell_type": "markdown",
   "metadata": {},
   "source": [
    "### Train model"
   ]
  },
  {
   "cell_type": "code",
   "execution_count": 12,
   "metadata": {},
   "outputs": [
    {
     "name": "stdout",
     "output_type": "stream",
     "text": [
      "Epoch 1/50\n",
      "319/319 [==============================] - ETA: 0s - loss: 0.7688 - accuracy: 0.7168\n",
      "Epoch 1: val_accuracy improved from -inf to 0.86512, saving model to gtsrb/bestM1/cp.ckpt\n",
      "319/319 [==============================] - 28s 84ms/step - loss: 0.7688 - accuracy: 0.7168 - val_loss: 0.4388 - val_accuracy: 0.8651\n",
      "Epoch 2/50\n",
      "319/319 [==============================] - ETA: 0s - loss: 0.0993 - accuracy: 0.9710\n",
      "Epoch 2: val_accuracy improved from 0.86512 to 0.87132, saving model to gtsrb/bestM1/cp.ckpt\n",
      "319/319 [==============================] - 27s 85ms/step - loss: 0.0993 - accuracy: 0.9710 - val_loss: 0.4303 - val_accuracy: 0.8713\n",
      "Epoch 3/50\n",
      "319/319 [==============================] - ETA: 0s - loss: 0.0665 - accuracy: 0.9806\n",
      "Epoch 3: val_accuracy improved from 0.87132 to 0.90543, saving model to gtsrb/bestM1/cp.ckpt\n",
      "319/319 [==============================] - 27s 83ms/step - loss: 0.0665 - accuracy: 0.9806 - val_loss: 0.3001 - val_accuracy: 0.9054\n",
      "Epoch 4/50\n",
      "319/319 [==============================] - ETA: 0s - loss: 0.0331 - accuracy: 0.9904\n",
      "Epoch 4: val_accuracy improved from 0.90543 to 0.91202, saving model to gtsrb/bestM1/cp.ckpt\n",
      "319/319 [==============================] - 29s 90ms/step - loss: 0.0331 - accuracy: 0.9904 - val_loss: 0.2908 - val_accuracy: 0.9120\n",
      "Epoch 5/50\n",
      "319/319 [==============================] - ETA: 0s - loss: 0.0284 - accuracy: 0.9910\n",
      "Epoch 5: val_accuracy improved from 0.91202 to 0.91240, saving model to gtsrb/bestM1/cp.ckpt\n",
      "319/319 [==============================] - 30s 94ms/step - loss: 0.0284 - accuracy: 0.9910 - val_loss: 0.3681 - val_accuracy: 0.9124\n",
      "Epoch 6/50\n",
      "319/319 [==============================] - ETA: 0s - loss: 0.0377 - accuracy: 0.9887\n",
      "Epoch 6: val_accuracy improved from 0.91240 to 0.95271, saving model to gtsrb/bestM1/cp.ckpt\n",
      "319/319 [==============================] - 30s 94ms/step - loss: 0.0377 - accuracy: 0.9887 - val_loss: 0.1650 - val_accuracy: 0.9527\n",
      "Epoch 7/50\n",
      "319/319 [==============================] - ETA: 0s - loss: 0.0187 - accuracy: 0.9938\n",
      "Epoch 7: val_accuracy did not improve from 0.95271\n",
      "319/319 [==============================] - 31s 96ms/step - loss: 0.0187 - accuracy: 0.9938 - val_loss: 0.2526 - val_accuracy: 0.9376\n",
      "Epoch 8/50\n",
      "319/319 [==============================] - ETA: 0s - loss: 0.0251 - accuracy: 0.9923\n",
      "Epoch 8: val_accuracy improved from 0.95271 to 0.95465, saving model to gtsrb/bestM1/cp.ckpt\n",
      "319/319 [==============================] - 31s 96ms/step - loss: 0.0251 - accuracy: 0.9923 - val_loss: 0.1816 - val_accuracy: 0.9547\n",
      "Epoch 9/50\n",
      "319/319 [==============================] - ETA: 0s - loss: 0.0160 - accuracy: 0.9964\n",
      "Epoch 9: val_accuracy did not improve from 0.95465\n",
      "319/319 [==============================] - 30s 95ms/step - loss: 0.0160 - accuracy: 0.9964 - val_loss: 0.2977 - val_accuracy: 0.9256\n",
      "Epoch 10/50\n",
      "319/319 [==============================] - ETA: 0s - loss: 0.0340 - accuracy: 0.9910\n",
      "Epoch 10: val_accuracy did not improve from 0.95465\n",
      "319/319 [==============================] - 30s 95ms/step - loss: 0.0340 - accuracy: 0.9910 - val_loss: 0.5111 - val_accuracy: 0.8938\n",
      "Epoch 11/50\n",
      "319/319 [==============================] - ETA: 0s - loss: 0.0161 - accuracy: 0.9952\n",
      "Epoch 11: val_accuracy did not improve from 0.95465\n",
      "319/319 [==============================] - 30s 94ms/step - loss: 0.0161 - accuracy: 0.9952 - val_loss: 0.3833 - val_accuracy: 0.9287\n",
      "Epoch 12/50\n",
      "319/319 [==============================] - ETA: 0s - loss: 0.0043 - accuracy: 0.9987\n",
      "Epoch 12: val_accuracy did not improve from 0.95465\n",
      "319/319 [==============================] - 30s 94ms/step - loss: 0.0043 - accuracy: 0.9987 - val_loss: 0.2902 - val_accuracy: 0.9477\n",
      "Epoch 13/50\n",
      "319/319 [==============================] - ETA: 0s - loss: 2.3383e-04 - accuracy: 1.0000\n",
      "Epoch 13: val_accuracy improved from 0.95465 to 0.95775, saving model to gtsrb/bestM1/cp.ckpt\n",
      "319/319 [==============================] - 30s 95ms/step - loss: 2.3383e-04 - accuracy: 1.0000 - val_loss: 0.2524 - val_accuracy: 0.9578\n",
      "Epoch 14/50\n",
      "319/319 [==============================] - ETA: 0s - loss: 3.5816e-05 - accuracy: 1.0000\n",
      "Epoch 14: val_accuracy did not improve from 0.95775\n",
      "319/319 [==============================] - 30s 95ms/step - loss: 3.5816e-05 - accuracy: 1.0000 - val_loss: 0.2584 - val_accuracy: 0.9562\n",
      "Epoch 15/50\n",
      "319/319 [==============================] - ETA: 0s - loss: 2.2738e-05 - accuracy: 1.0000\n",
      "Epoch 15: val_accuracy did not improve from 0.95775\n",
      "319/319 [==============================] - 30s 95ms/step - loss: 2.2738e-05 - accuracy: 1.0000 - val_loss: 0.2624 - val_accuracy: 0.9558\n",
      "Epoch 16/50\n",
      "319/319 [==============================] - ETA: 0s - loss: 1.6614e-05 - accuracy: 1.0000\n",
      "Epoch 16: val_accuracy did not improve from 0.95775\n",
      "319/319 [==============================] - 30s 95ms/step - loss: 1.6614e-05 - accuracy: 1.0000 - val_loss: 0.2668 - val_accuracy: 0.9562\n",
      "Epoch 17/50\n",
      "319/319 [==============================] - ETA: 0s - loss: 1.2638e-05 - accuracy: 1.0000\n",
      "Epoch 17: val_accuracy did not improve from 0.95775\n",
      "319/319 [==============================] - 30s 96ms/step - loss: 1.2638e-05 - accuracy: 1.0000 - val_loss: 0.2713 - val_accuracy: 0.9562\n",
      "Epoch 18/50\n",
      "319/319 [==============================] - ETA: 0s - loss: 9.9371e-06 - accuracy: 1.0000\n",
      "Epoch 18: val_accuracy did not improve from 0.95775\n",
      "319/319 [==============================] - 31s 96ms/step - loss: 9.9371e-06 - accuracy: 1.0000 - val_loss: 0.2752 - val_accuracy: 0.9566\n",
      "Epoch 19/50\n",
      "319/319 [==============================] - ETA: 0s - loss: 7.9399e-06 - accuracy: 1.0000\n",
      "Epoch 19: val_accuracy did not improve from 0.95775\n",
      "319/319 [==============================] - 30s 95ms/step - loss: 7.9399e-06 - accuracy: 1.0000 - val_loss: 0.2794 - val_accuracy: 0.9574\n",
      "Epoch 20/50\n",
      "319/319 [==============================] - ETA: 0s - loss: 6.3899e-06 - accuracy: 1.0000\n",
      "Epoch 20: val_accuracy did not improve from 0.95775\n",
      "319/319 [==============================] - 30s 95ms/step - loss: 6.3899e-06 - accuracy: 1.0000 - val_loss: 0.2835 - val_accuracy: 0.9570\n",
      "Epoch 21/50\n",
      "319/319 [==============================] - ETA: 0s - loss: 5.1970e-06 - accuracy: 1.0000\n",
      "Epoch 21: val_accuracy did not improve from 0.95775\n",
      "319/319 [==============================] - 30s 95ms/step - loss: 5.1970e-06 - accuracy: 1.0000 - val_loss: 0.2871 - val_accuracy: 0.9570\n",
      "Epoch 21: early stopping\n"
     ]
    }
   ],
   "source": [
    "file_pathV1, callbacksM1 = prepareCallbacks('bestM1')\n",
    "\n",
    "historyV1 = modelV1.fit(train_set,\n",
    "          epochs=50, \n",
    "          validation_data = val_set, \n",
    "          callbacks=callbacksM1)"
   ]
  },
  {
   "cell_type": "markdown",
   "metadata": {},
   "source": [
    "### Show graphs for accuracy and loss history"
   ]
  },
  {
   "cell_type": "code",
   "execution_count": 13,
   "metadata": {},
   "outputs": [
    {
     "name": "stdout",
     "output_type": "stream",
     "text": [
      "dict_keys(['loss', 'accuracy', 'val_loss', 'val_accuracy'])\n"
     ]
    },
    {
     "data": {
      "image/png": "[encoded data removed]",
      "text/plain": [
       "<Figure size 640x480 with 1 Axes>"
      ]
     },
     "metadata": {},
     "output_type": "display_data"
    },
    {
     "data": {
      "image/png": "[encoded data removed]",
      "text/plain": [
       "<Figure size 640x480 with 1 Axes>"
      ]
     },
     "metadata": {},
     "output_type": "display_data"
    }
   ],
   "source": [
    "show_history(historyV1)"
   ]
  },
  {
   "cell_type": "markdown",
   "metadata": {},
   "source": [
    "### Load weights for best epoch and evaluate model\n",
    "\n",
    "Notice how the validation set accuracy differs from the test set accuracy. Why?"
   ]
  },
  {
   "cell_type": "code",
   "execution_count": 14,
   "metadata": {
    "slideshow": {
     "slide_type": "fragment"
    },
    "tags": []
   },
   "outputs": [
    {
     "name": "stdout",
     "output_type": "stream",
     "text": [
      "131/131 - 4s - loss: 3.7371 - accuracy: 0.7484 - 4s/epoch - 34ms/step\n",
      "[3.737112045288086, 0.748441219329834]\n",
      "81/81 - 3s - loss: 0.2524 - accuracy: 0.9578 - 3s/epoch - 31ms/step\n"
     ]
    }
   ],
   "source": [
    "modelV1.load_weights(file_pathV1)\n",
    "\n",
    "evalV1 = modelV1.evaluate(test_set, verbose=2)\n",
    "print(evalV1)\n",
    "\n",
    "valV1 = modelV1.evaluate(val_set, verbose=2)"
   ]
  },
  {
   "cell_type": "code",
   "execution_count": 15,
   "metadata": {
    "tags": []
   },
   "outputs": [],
   "source": [
    "def cnn2(class_count, image_size, channels):\n",
    "    \n",
    "    model = Sequential()\n",
    "    model.add(Input(shape=(image_size, image_size, channels)))\n",
    "    \n",
    "    model.add(Conv2D(64,(5,5)))\n",
    "    model.add(BatchNormalization())\n",
    "    model.add(LeakyReLU(alpha=0.01))\n",
    "    \n",
    "    model.add(Conv2D(64,(5,5)))\n",
    "    model.add(BatchNormalization())\n",
    "    model.add(LeakyReLU(alpha=0.01))\n",
    "    \n",
    "    model.add(MaxPooling2D(pool_size=(2,2)))\n",
    "    \n",
    "    model.add(Conv2D(64,(5,5)))\n",
    "    model.add(BatchNormalization())\n",
    "    model.add(LeakyReLU(alpha=0.01))\n",
    "    \n",
    "    model.add(MaxPooling2D(pool_size=(2,2)))\n",
    "    \n",
    "    model.add(Flatten())\n",
    "    model.add(Dense(128))\n",
    "    model.add(LeakyReLU(alpha=0.01))\n",
    "    model.add(Dropout(0.2))\n",
    "    \n",
    "    model.add(Dense(class_count, activation='softmax'))\n",
    "    \n",
    "    opt = Adam(learning_rate=0.0001)\n",
    "    model.compile(optimizer=opt, loss='categorical_crossentropy', metrics=['accuracy'])\n",
    "    \n",
    "    return model"
   ]
  },
  {
   "cell_type": "code",
   "execution_count": 16,
   "metadata": {
    "tags": []
   },
   "outputs": [
    {
     "name": "stdout",
     "output_type": "stream",
     "text": [
      "Model: \"sequential_1\"\n",
      "_________________________________________________________________\n",
      " Layer (type)                Output Shape              Param #   \n",
      "=================================================================\n",
      " conv2d_3 (Conv2D)           (None, 28, 28, 64)        4864      \n",
      "                                                                 \n",
      " batch_normalization (BatchN  (None, 28, 28, 64)       256       \n",
      " ormalization)                                                   \n",
      "                                                                 \n",
      " leaky_re_lu_4 (LeakyReLU)   (None, 28, 28, 64)        0         \n",
      "                                                                 \n",
      " conv2d_4 (Conv2D)           (None, 24, 24, 64)        102464    \n",
      "                                                                 \n",
      " batch_normalization_1 (Batc  (None, 24, 24, 64)       256       \n",
      " hNormalization)                                                 \n",
      "                                                                 \n",
      " leaky_re_lu_5 (LeakyReLU)   (None, 24, 24, 64)        0         \n",
      "                                                                 \n",
      " max_pooling2d (MaxPooling2D  (None, 12, 12, 64)       0         \n",
      " )                                                               \n",
      "                                                                 \n",
      " conv2d_5 (Conv2D)           (None, 8, 8, 64)          102464    \n",
      "                                                                 \n",
      " batch_normalization_2 (Batc  (None, 8, 8, 64)         256       \n",
      " hNormalization)                                                 \n",
      "                                                                 \n",
      " leaky_re_lu_6 (LeakyReLU)   (None, 8, 8, 64)          0         \n",
      "                                                                 \n",
      " max_pooling2d_1 (MaxPooling  (None, 4, 4, 64)         0         \n",
      " 2D)                                                             \n",
      "                                                                 \n",
      " flatten_1 (Flatten)         (None, 1024)              0         \n",
      "                                                                 \n",
      " dense_2 (Dense)             (None, 128)               131200    \n",
      "                                                                 \n",
      " leaky_re_lu_7 (LeakyReLU)   (None, 128)               0         \n",
      "                                                                 \n",
      " dropout (Dropout)           (None, 128)               0         \n",
      "                                                                 \n",
      " dense_3 (Dense)             (None, 8)                 1032      \n",
      "                                                                 \n",
      "=================================================================\n",
      "Total params: 342,792\n",
      "Trainable params: 342,408\n",
      "Non-trainable params: 384\n",
      "_________________________________________________________________\n"
     ]
    }
   ],
   "source": [
    "modelV2 = cnn2(8,32,3)\n",
    "\n",
    "modelV2.summary()"
   ]
  },
  {
   "cell_type": "code",
   "execution_count": 17,
   "metadata": {
    "tags": []
   },
   "outputs": [
    {
     "name": "stdout",
     "output_type": "stream",
     "text": [
      "Epoch 1/50\n",
      "318/319 [============================>.] - ETA: 0s - loss: 0.9984 - accuracy: 0.6570\n",
      "Epoch 1: val_accuracy improved from -inf to 0.40194, saving model to gtsrb/bestM2/cp.ckpt\n",
      "319/319 [==============================] - 17s 53ms/step - loss: 0.9975 - accuracy: 0.6574 - val_loss: 1.5640 - val_accuracy: 0.4019\n",
      "Epoch 2/50\n",
      "319/319 [==============================] - ETA: 0s - loss: 0.2215 - accuracy: 0.9431\n",
      "Epoch 2: val_accuracy improved from 0.40194 to 0.82287, saving model to gtsrb/bestM2/cp.ckpt\n",
      "319/319 [==============================] - 17s 52ms/step - loss: 0.2215 - accuracy: 0.9431 - val_loss: 0.5580 - val_accuracy: 0.8229\n",
      "Epoch 3/50\n",
      "318/319 [============================>.] - ETA: 0s - loss: 0.1004 - accuracy: 0.9772\n",
      "Epoch 3: val_accuracy improved from 0.82287 to 0.89186, saving model to gtsrb/bestM2/cp.ckpt\n",
      "319/319 [==============================] - 17s 54ms/step - loss: 0.1003 - accuracy: 0.9773 - val_loss: 0.3048 - val_accuracy: 0.8919\n",
      "Epoch 4/50\n",
      "318/319 [============================>.] - ETA: 0s - loss: 0.0573 - accuracy: 0.9883\n",
      "Epoch 4: val_accuracy improved from 0.89186 to 0.92132, saving model to gtsrb/bestM2/cp.ckpt\n",
      "319/319 [==============================] - 17s 53ms/step - loss: 0.0572 - accuracy: 0.9883 - val_loss: 0.2428 - val_accuracy: 0.9213\n",
      "Epoch 5/50\n",
      "318/319 [============================>.] - ETA: 0s - loss: 0.0368 - accuracy: 0.9935\n",
      "Epoch 5: val_accuracy did not improve from 0.92132\n",
      "319/319 [==============================] - 19s 60ms/step - loss: 0.0367 - accuracy: 0.9935 - val_loss: 0.2267 - val_accuracy: 0.9155\n",
      "Epoch 6/50\n",
      "318/319 [============================>.] - ETA: 0s - loss: 0.0260 - accuracy: 0.9959\n",
      "Epoch 6: val_accuracy improved from 0.92132 to 0.95775, saving model to gtsrb/bestM2/cp.ckpt\n",
      "319/319 [==============================] - 19s 60ms/step - loss: 0.0260 - accuracy: 0.9959 - val_loss: 0.1434 - val_accuracy: 0.9578\n",
      "Epoch 7/50\n",
      "318/319 [============================>.] - ETA: 0s - loss: 0.0152 - accuracy: 0.9986\n",
      "Epoch 7: val_accuracy did not improve from 0.95775\n",
      "319/319 [==============================] - 19s 60ms/step - loss: 0.0152 - accuracy: 0.9986 - val_loss: 0.1864 - val_accuracy: 0.9283\n",
      "Epoch 8/50\n",
      "318/319 [============================>.] - ETA: 0s - loss: 0.0123 - accuracy: 0.9987\n",
      "Epoch 8: val_accuracy did not improve from 0.95775\n",
      "319/319 [==============================] - 19s 61ms/step - loss: 0.0122 - accuracy: 0.9987 - val_loss: 0.1912 - val_accuracy: 0.9256\n",
      "Epoch 9/50\n",
      "318/319 [============================>.] - ETA: 0s - loss: 0.0098 - accuracy: 0.9987\n",
      "Epoch 9: val_accuracy did not improve from 0.95775\n",
      "319/319 [==============================] - 19s 59ms/step - loss: 0.0098 - accuracy: 0.9987 - val_loss: 0.1785 - val_accuracy: 0.9333\n",
      "Epoch 10/50\n",
      "318/319 [============================>.] - ETA: 0s - loss: 0.0221 - accuracy: 0.9951\n",
      "Epoch 10: val_accuracy did not improve from 0.95775\n",
      "319/319 [==============================] - 19s 60ms/step - loss: 0.0221 - accuracy: 0.9951 - val_loss: 0.1795 - val_accuracy: 0.9279\n",
      "Epoch 11/50\n",
      "318/319 [============================>.] - ETA: 0s - loss: 0.0106 - accuracy: 0.9986\n",
      "Epoch 11: val_accuracy did not improve from 0.95775\n",
      "319/319 [==============================] - 19s 60ms/step - loss: 0.0106 - accuracy: 0.9986 - val_loss: 0.2863 - val_accuracy: 0.9078\n",
      "Epoch 12/50\n",
      "318/319 [============================>.] - ETA: 0s - loss: 0.0076 - accuracy: 0.9988\n",
      "Epoch 12: val_accuracy did not improve from 0.95775\n",
      "319/319 [==============================] - 19s 60ms/step - loss: 0.0076 - accuracy: 0.9988 - val_loss: 0.2912 - val_accuracy: 0.9039\n",
      "Epoch 13/50\n",
      "318/319 [============================>.] - ETA: 0s - loss: 0.0052 - accuracy: 0.9994\n",
      "Epoch 13: val_accuracy did not improve from 0.95775\n",
      "319/319 [==============================] - 19s 60ms/step - loss: 0.0052 - accuracy: 0.9994 - val_loss: 0.1419 - val_accuracy: 0.9411\n",
      "Epoch 14/50\n",
      "318/319 [============================>.] - ETA: 0s - loss: 0.0038 - accuracy: 0.9995\n",
      "Epoch 14: val_accuracy did not improve from 0.95775\n",
      "319/319 [==============================] - 19s 60ms/step - loss: 0.0038 - accuracy: 0.9995 - val_loss: 0.1808 - val_accuracy: 0.9310\n",
      "Epoch 14: early stopping\n"
     ]
    }
   ],
   "source": [
    "file_pathV2, callbacksV2 = prepareCallbacks('bestM2')\n",
    "\n",
    "historyV2 = modelV2.fit(train_set, epochs=50, validation_data = val_set, callbacks=callbacksV2)"
   ]
  },
  {
   "cell_type": "code",
   "execution_count": 22,
   "metadata": {
    "tags": []
   },
   "outputs": [
    {
     "name": "stdout",
     "output_type": "stream",
     "text": [
      "131/131 - 3s - loss: 0.7339 - accuracy: 0.8031 - 3s/epoch - 22ms/step\n",
      "81/81 - 2s - loss: 0.1434 - accuracy: 0.9578 - 2s/epoch - 21ms/step\n"
     ]
    },
    {
     "data": {
      "image/png": "[encoded data removed]",
      "text/plain": [
       "<Figure size 640x480 with 1 Axes>"
      ]
     },
     "metadata": {},
     "output_type": "display_data"
    }
   ],
   "source": [
    "modelV2.load_weights(file_pathV2)\n",
    "\n",
    "evalV2=modelV2.evaluate(test_set, verbose=2)\n",
    "valV2=modelV2.evaluate(val_set, verbose=2)\n",
    "\n",
    "show_accuracies()"
   ]
  },
  {
   "cell_type": "code",
   "execution_count": 20,
   "metadata": {
    "tags": []
   },
   "outputs": [],
   "source": [
    "def cnn3(class_count, image_size, channels):\n",
    "    \n",
    "    model = Sequential()\n",
    "    model.add(Input(shape=(image_size, image_size, channels)))\n",
    "    \n",
    "    model.add(Conv2D(128,(5,5)))\n",
    "    model.add(BatchNormalization())\n",
    "    model.add(LeakyReLU(alpha=0.01))\n",
    "    \n",
    "    model.add(Conv2D(128,(5,5)))\n",
    "    model.add(BatchNormalization())\n",
    "    model.add(LeakyReLU(alpha=0.01))\n",
    "    \n",
    "    model.add(MaxPooling2D(pool_size=(2,2)))\n",
    "    \n",
    "    model.add(Conv2D(256,(5,5)))\n",
    "    model.add(BatchNormalization())\n",
    "    model.add(LeakyReLU(alpha=0.01))\n",
    "    \n",
    "    model.add(MaxPooling2D(pool_size=(2,2)))\n",
    "    \n",
    "    model.add(Flatten())\n",
    "    model.add(Dense(128))\n",
    "    model.add(LeakyReLU(alpha=0.01))\n",
    "    model.add(Dropout(0.2))\n",
    "    \n",
    "    model.add(Dense(class_count, activation='softmax'))\n",
    "    \n",
    "    opt = Adam(learning_rate=0.0001)\n",
    "    model.compile(optimizer=opt, loss='categorical_crossentropy', metrics=['accuracy'])\n",
    "    \n",
    "    return model"
   ]
  },
  {
   "cell_type": "code",
   "execution_count": 23,
   "metadata": {
    "tags": []
   },
   "outputs": [
    {
     "name": "stdout",
     "output_type": "stream",
     "text": [
      "Model: \"sequential_2\"\n",
      "_________________________________________________________________\n",
      " Layer (type)                Output Shape              Param #   \n",
      "=================================================================\n",
      " conv2d_6 (Conv2D)           (None, 28, 28, 128)       9728      \n",
      "                                                                 \n",
      " batch_normalization_3 (Batc  (None, 28, 28, 128)      512       \n",
      " hNormalization)                                                 \n",
      "                                                                 \n",
      " leaky_re_lu_8 (LeakyReLU)   (None, 28, 28, 128)       0         \n",
      "                                                                 \n",
      " conv2d_7 (Conv2D)           (None, 24, 24, 128)       409728    \n",
      "                                                                 \n",
      " batch_normalization_4 (Batc  (None, 24, 24, 128)      512       \n",
      " hNormalization)                                                 \n",
      "                                                                 \n",
      " leaky_re_lu_9 (LeakyReLU)   (None, 24, 24, 128)       0         \n",
      "                                                                 \n",
      " max_pooling2d_2 (MaxPooling  (None, 12, 12, 128)      0         \n",
      " 2D)                                                             \n",
      "                                                                 \n",
      " conv2d_8 (Conv2D)           (None, 8, 8, 256)         819456    \n",
      "                                                                 \n",
      " batch_normalization_5 (Batc  (None, 8, 8, 256)        1024      \n",
      " hNormalization)                                                 \n",
      "                                                                 \n",
      " leaky_re_lu_10 (LeakyReLU)  (None, 8, 8, 256)         0         \n",
      "                                                                 \n",
      " max_pooling2d_3 (MaxPooling  (None, 4, 4, 256)        0         \n",
      " 2D)                                                             \n",
      "                                                                 \n",
      " flatten_2 (Flatten)         (None, 4096)              0         \n",
      "                                                                 \n",
      " dense_4 (Dense)             (None, 128)               524416    \n",
      "                                                                 \n",
      " leaky_re_lu_11 (LeakyReLU)  (None, 128)               0         \n",
      "                                                                 \n",
      " dropout_1 (Dropout)         (None, 128)               0         \n",
      "                                                                 \n",
      " dense_5 (Dense)             (None, 8)                 1032      \n",
      "                                                                 \n",
      "=================================================================\n",
      "Total params: 1,766,408\n",
      "Trainable params: 1,765,384\n",
      "Non-trainable params: 1,024\n",
      "_________________________________________________________________\n"
     ]
    }
   ],
   "source": [
    "modelV2 = cnn3(8,32,3)\n",
    "\n",
    "modelV2.summary()"
   ]
  },
  {
   "cell_type": "code",
   "execution_count": null,
   "metadata": {},
   "outputs": [],
   "source": []
  }
 ],
 "metadata": {
  "kernelspec": {
   "display_name": "Python 3 (ipykernel)",
   "language": "python",
   "name": "python3"
  },
  "language_info": {
   "codemirror_mode": {
    "name": "ipython",
    "version": 3
   },
   "file_extension": ".py",
   "mimetype": "text/x-python",
   "name": "python",
   "nbconvert_exporter": "python",
   "pygments_lexer": "ipython3",
   "version": "3.10.6"
  },
  "toc-autonumbering": false,
  "toc-showcode": false,
  "toc-showmarkdowntxt": false
 },
 "nbformat": 4,
 "nbformat_minor": 4
}

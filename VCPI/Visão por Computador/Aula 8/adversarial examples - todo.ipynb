{
 "cells": [
  {
   "cell_type": "code",
   "execution_count": null,
   "metadata": {},
   "outputs": [],
   "source": [
    "import tensorflow as tf\n",
    "import numpy as np\n",
    "from PIL import Image\n",
    "import matplotlib.pyplot as plt\n",
    "import matplotlib as mpl"
   ]
  },
  {
   "attachments": {},
   "cell_type": "markdown",
   "metadata": {},
   "source": [
    "### Utility function to load the image and prepare it for inception model"
   ]
  },
  {
   "cell_type": "code",
   "execution_count": null,
   "metadata": {},
   "outputs": [],
   "source": [
    "def loadImagePIL(path):\n",
    "    im = Image.open(path)\n",
    "    dimX, dimY = im.size\n",
    "    im_array = np.array(im).astype(np.float32)/127.5 - 1.0\n",
    "    \n",
    "    return im_array"
   ]
  },
  {
   "attachments": {},
   "cell_type": "markdown",
   "metadata": {},
   "source": [
    "### Use tensorflow decode_predictions to get the class name"
   ]
  },
  {
   "cell_type": "code",
   "execution_count": null,
   "metadata": {},
   "outputs": [],
   "source": [
    "def getImageNetLabel(class_id):\n",
    "    aux = np.zeros((1,1000))\n",
    "    aux[0][class_id] = 1\n",
    "    k = tf.keras.applications.inception_v3.decode_predictions(aux, top=1)\n",
    "    return(k[0][0][1])\n",
    "    "
   ]
  },
  {
   "attachments": {},
   "cell_type": "markdown",
   "metadata": {},
   "source": [
    "testing"
   ]
  },
  {
   "cell_type": "code",
   "execution_count": null,
   "metadata": {},
   "outputs": [],
   "source": [
    "getImageNetLabel(287)"
   ]
  },
  {
   "attachments": {},
   "cell_type": "markdown",
   "metadata": {},
   "source": [
    "### Loading image, reshape and convert to tensor"
   ]
  },
  {
   "cell_type": "code",
   "execution_count": null,
   "metadata": {},
   "outputs": [],
   "source": [
    "originalImage = loadImagePIL('cat.jpg')\n",
    "print(\"Original shape: \", originalImage.shape)\n",
    "k = Image.fromarray((originalImage*255.0).astype(np.uint8))\n",
    "\n",
    "#expand image to create a batch of 1\n",
    "originalImage = np.expand_dims(originalImage, axis=0)\n",
    "\n",
    "originalTensor = tf.constant(originalImage)\n",
    "print(\"Tensor shape: \", originalTensor.shape)\n",
    "plt.imshow(tf.squeeze((originalTensor+1.0) * 0.5, axis=0))"
   ]
  },
  {
   "attachments": {},
   "cell_type": "markdown",
   "metadata": {},
   "source": [
    "### Load inception model with imagenet weights"
   ]
  },
  {
   "cell_type": "code",
   "execution_count": null,
   "metadata": {},
   "outputs": [],
   "source": [
    "model = tf.keras.applications.InceptionV3(include_top=True, weights='imagenet')"
   ]
  },
  {
   "attachments": {},
   "cell_type": "markdown",
   "metadata": {},
   "source": [
    "### Feed the image to the model and get the top 5 predictions"
   ]
  },
  {
   "cell_type": "code",
   "execution_count": null,
   "metadata": {},
   "outputs": [],
   "source": [
    "preds = model.predict(originalTensor)\n",
    "pred_top_5 = tf.keras.applications.imagenet_utils.decode_predictions(preds)[0]\n",
    "[(class_name, prob) for (number, class_name, prob) in pred_top_5]"
   ]
  },
  {
   "attachments": {},
   "cell_type": "markdown",
   "metadata": {},
   "source": [
    "### Define a target class\n",
    "\n",
    "class id and labels can be found in: https://gist.github.com/yrevar/942d3a0ac09ec9e5eb3a"
   ]
  }
 ],
 "metadata": {
  "interpreter": {
   "hash": "e4021f77399b0c3ea16bff0ae94696dcd4cdd5e0b0f5106453c00b9c56c37456"
  },
  "kernelspec": {
   "display_name": "Python 3.7.3 64-bit",
   "language": "python",
   "name": "python3"
  },
  "language_info": {
   "codemirror_mode": {
    "name": "ipython",
    "version": 3
   },
   "file_extension": ".py",
   "mimetype": "text/x-python",
   "name": "python",
   "nbconvert_exporter": "python",
   "pygments_lexer": "ipython3",
   "version": "3.7.4"
  }
 },
 "nbformat": 4,
 "nbformat_minor": 2
}

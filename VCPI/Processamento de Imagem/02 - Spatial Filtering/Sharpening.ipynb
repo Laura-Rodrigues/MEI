{
 "cells": [
  {
   "cell_type": "code",
   "execution_count": null,
   "id": "1e6867c8",
   "metadata": {},
   "outputs": [],
   "source": [
    "import cv2\n",
    "# to install cv2 use: pip install opencv-python\n",
    "import math\n",
    "import matplotlib.pyplot as plt \n",
    "import numpy as np"
   ]
  },
  {
   "cell_type": "code",
   "execution_count": null,
   "id": "5604db12",
   "metadata": {},
   "outputs": [],
   "source": [
    "fname = 'Images/moon.png'\n",
    "img = cv2.imread(fname,cv2.IMREAD_GRAYSCALE)\n",
    "print(img.shape)\n",
    "fig = plt.figure(figsize=(15,5))\n",
    "plt.imshow(img, cmap='gray')"
   ]
  },
  {
   "cell_type": "code",
   "execution_count": null,
   "id": "e4fd621b",
   "metadata": {},
   "outputs": [],
   "source": [
    "# correlate\n",
    "def correlate (kernel, image):\n",
    "    W = image.shape[0]\n",
    "    H = image.shape[1]\n",
    "    out =np.zeros((W,H))\n",
    "    a = kernel.shape[0]%2\n",
    "    b = kernel.shape[1]%2\n",
    "    #print (a,b)\n",
    "    for y in range(b,H-b): \n",
    "        for x in range(a,W-a): \n",
    "            for s in range (-a,a+1):\n",
    "                for t in range (-b, b+1):\n",
    "                    out[x,y] += (kernel[s,t]*image[x+s,y+t])\n",
    "    return out"
   ]
  },
  {
   "cell_type": "code",
   "execution_count": null,
   "id": "d199bc6e",
   "metadata": {},
   "outputs": [],
   "source": [
    "def rescale (image):\n",
    "    image = np.absolute(image)\n",
    "    mymin=np.amin(image)\n",
    "    mymax=np.amax(image)\n",
    "    W = image.shape[0]\n",
    "    H = image.shape[1]\n",
    "    for y in range(H): \n",
    "        for x in range(W): \n",
    "            image[x,y] = (image[x,y]-mymin)*256/(mymax-mymin)\n",
    "    return image"
   ]
  },
  {
   "cell_type": "code",
   "execution_count": null,
   "id": "c5673f51",
   "metadata": {},
   "outputs": [],
   "source": [
    "Laplace = np.array([[-1,-1,-1], [-1, 8, -1],[-1,-1,-1]], dtype=float)\n",
    "#print(Laplace)"
   ]
  },
  {
   "cell_type": "code",
   "execution_count": null,
   "id": "916c9532",
   "metadata": {},
   "outputs": [],
   "source": [
    "dImg = correlate (Laplace, img)\n",
    "dImg = rescale (dImg)"
   ]
  },
  {
   "cell_type": "code",
   "execution_count": null,
   "id": "707d53eb",
   "metadata": {},
   "outputs": [],
   "source": [
    "fig = plt.figure(figsize=(15,5))\n",
    "plt.imshow(dImg, cmap='gray')"
   ]
  },
  {
   "cell_type": "code",
   "execution_count": null,
   "id": "ed1fd689",
   "metadata": {},
   "outputs": [],
   "source": [
    "# sharpen edges\n",
    "eImg = 0.5*dImg + 0.5*img"
   ]
  },
  {
   "cell_type": "code",
   "execution_count": null,
   "id": "008e1f4c",
   "metadata": {},
   "outputs": [],
   "source": [
    "fig = plt.figure(figsize=(15,5))\n",
    "plt.imshow(eImg, cmap='gray')"
   ]
  },
  {
   "cell_type": "markdown",
   "id": "7aa2c90d",
   "metadata": {},
   "source": [
    "## Sobel gradient operators"
   ]
  },
  {
   "cell_type": "code",
   "execution_count": null,
   "id": "10e7b853",
   "metadata": {},
   "outputs": [],
   "source": [
    "fname = 'Images/lena.jpg'\n",
    "img = cv2.imread(fname,cv2.IMREAD_GRAYSCALE)\n",
    "print(img.shape)\n",
    "fig = plt.figure(figsize=(15,5))\n",
    "plt.imshow(img, cmap='gray')"
   ]
  },
  {
   "cell_type": "code",
   "execution_count": null,
   "id": "3725c20c",
   "metadata": {},
   "outputs": [],
   "source": [
    "Sobel_y = np.array([[-1,0,1], [-2, 0, 2],[-1,0,1]], dtype=float)\n",
    "Sobel_x = np.array([[-1,-2,-1], [0, 0, 0],[1,2,1]], dtype=float)"
   ]
  },
  {
   "cell_type": "code",
   "execution_count": null,
   "id": "584d53bb",
   "metadata": {},
   "outputs": [],
   "source": [
    "gx = correlate(Sobel_x, img)\n",
    "gx = np.absolute(gx)\n",
    "gy = correlate(Sobel_y, img)\n",
    "gy = np.absolute(gy)\n"
   ]
  },
  {
   "cell_type": "code",
   "execution_count": null,
   "id": "8a77bf57",
   "metadata": {},
   "outputs": [],
   "source": [
    "fig = plt.figure(figsize=(15,5))\n",
    "plt.imshow(gx, cmap='gray')"
   ]
  },
  {
   "cell_type": "code",
   "execution_count": null,
   "id": "a36a73fe",
   "metadata": {},
   "outputs": [],
   "source": [
    "fig = plt.figure(figsize=(15,5))\n",
    "plt.imshow(gy, cmap='gray')"
   ]
  },
  {
   "cell_type": "code",
   "execution_count": null,
   "id": "accfd63d",
   "metadata": {},
   "outputs": [],
   "source": [
    "grad = np.sqrt(np.square(gx) + np.square(gy))\n",
    "fig = plt.figure(figsize=(15,5))\n",
    "plt.imshow(grad, cmap='gray')"
   ]
  },
  {
   "cell_type": "code",
   "execution_count": null,
   "id": "67fd0536",
   "metadata": {},
   "outputs": [],
   "source": []
  }
 ],
 "metadata": {
  "kernelspec": {
   "display_name": "Python 3 (ipykernel)",
   "language": "python",
   "name": "python3"
  },
  "language_info": {
   "codemirror_mode": {
    "name": "ipython",
    "version": 3
   },
   "file_extension": ".py",
   "mimetype": "text/x-python",
   "name": "python",
   "nbconvert_exporter": "python",
   "pygments_lexer": "ipython3",
   "version": "3.9.5"
  }
 },
 "nbformat": 4,
 "nbformat_minor": 5
}
